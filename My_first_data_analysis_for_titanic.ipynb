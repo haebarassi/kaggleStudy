{
  "nbformat": 4,
  "nbformat_minor": 0,
  "metadata": {
    "colab": {
      "name": "My_first_data_analysis_for_titanic",
      "provenance": [],
      "collapsed_sections": [
        "bltVVCbCRK4j",
        "p03oIFP-Rfp5",
        "Sk90-zpDRuae",
        "P8t9JCwWR9Mh",
        "AYm3oim8SOuN",
        "EC32inyuSYhd",
        "zZGyg_w4Slyp",
        "yeX9X9FBTbfT",
        "jBVGxTuohzOp",
        "N_lxfkHSnmh3"
      ],
      "authorship_tag": "ABX9TyOIWUsWd7u9/wlOfPaq/hGq",
      "include_colab_link": true
    },
    "kernelspec": {
      "name": "python3",
      "display_name": "Python 3"
    },
    "language_info": {
      "name": "python"
    }
  },
  "cells": [
    {
      "cell_type": "markdown",
      "metadata": {
        "id": "view-in-github",
        "colab_type": "text"
      },
      "source": [
        "<a href=\"https://colab.research.google.com/github/haebarassi/kaggleStudy/blob/master/My_first_data_analysis_for_titanic.ipynb\" target=\"_parent\"><img src=\"https://colab.research.google.com/assets/colab-badge.svg\" alt=\"Open In Colab\"/></a>"
      ]
    },
    {
      "cell_type": "markdown",
      "source": [
        "# kaggle이랑 colab 연결하기"
      ],
      "metadata": {
        "id": "K_yYu5ZCO8wH"
      }
    },
    {
      "cell_type": "markdown",
      "source": [
        "- https://medium.com/hyunjulie/%EC%BA%90%EA%B8%80%EA%B3%BC-%EA%B5%AC%EA%B8%80-colab-%EC%97%B0%EA%B2%B0%ED%95%B4%EC%A3%BC%EA%B8%B0-6a274f6de81d"
      ],
      "metadata": {
        "id": "rlZQrjt-O11H"
      }
    },
    {
      "cell_type": "code",
      "source": [
        "!pip install kaggle\n",
        "from google.colab import files\n",
        "files.upload()"
      ],
      "metadata": {
        "colab": {
          "resources": {
            "http://localhost:8080/nbextensions/google.colab/files.js": {
              "data": "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",
              "ok": true,
              "headers": [
                [
                  "content-type",
                  "application/javascript"
                ]
              ],
              "status": 200,
              "status_text": ""
            }
          },
          "base_uri": "https://localhost:8080/",
          "height": 314
        },
        "id": "-WFa8pNTLkt6",
        "outputId": "cff217d7-a94d-49ad-bd9d-8dd3ed2b3097"
      },
      "execution_count": null,
      "outputs": [
        {
          "output_type": "stream",
          "name": "stdout",
          "text": [
            "Requirement already satisfied: kaggle in /usr/local/lib/python3.7/dist-packages (1.5.12)\n",
            "Requirement already satisfied: python-dateutil in /usr/local/lib/python3.7/dist-packages (from kaggle) (2.8.2)\n",
            "Requirement already satisfied: certifi in /usr/local/lib/python3.7/dist-packages (from kaggle) (2021.10.8)\n",
            "Requirement already satisfied: tqdm in /usr/local/lib/python3.7/dist-packages (from kaggle) (4.64.0)\n",
            "Requirement already satisfied: requests in /usr/local/lib/python3.7/dist-packages (from kaggle) (2.23.0)\n",
            "Requirement already satisfied: urllib3 in /usr/local/lib/python3.7/dist-packages (from kaggle) (1.24.3)\n",
            "Requirement already satisfied: six>=1.10 in /usr/local/lib/python3.7/dist-packages (from kaggle) (1.15.0)\n",
            "Requirement already satisfied: python-slugify in /usr/local/lib/python3.7/dist-packages (from kaggle) (6.1.1)\n",
            "Requirement already satisfied: text-unidecode>=1.3 in /usr/local/lib/python3.7/dist-packages (from python-slugify->kaggle) (1.3)\n",
            "Requirement already satisfied: idna<3,>=2.5 in /usr/local/lib/python3.7/dist-packages (from requests->kaggle) (2.10)\n",
            "Requirement already satisfied: chardet<4,>=3.0.2 in /usr/local/lib/python3.7/dist-packages (from requests->kaggle) (3.0.4)\n"
          ]
        },
        {
          "output_type": "display_data",
          "data": {
            "text/plain": [
              "<IPython.core.display.HTML object>"
            ],
            "text/html": [
              "\n",
              "     <input type=\"file\" id=\"files-a0257e17-2a7a-4153-a9c6-0b6a23582d39\" name=\"files[]\" multiple disabled\n",
              "        style=\"border:none\" />\n",
              "     <output id=\"result-a0257e17-2a7a-4153-a9c6-0b6a23582d39\">\n",
              "      Upload widget is only available when the cell has been executed in the\n",
              "      current browser session. Please rerun this cell to enable.\n",
              "      </output>\n",
              "      <script src=\"/nbextensions/google.colab/files.js\"></script> "
            ]
          },
          "metadata": {}
        },
        {
          "output_type": "stream",
          "name": "stdout",
          "text": [
            "Saving kaggle.json to kaggle.json\n"
          ]
        },
        {
          "output_type": "execute_result",
          "data": {
            "text/plain": [
              "{'kaggle.json': b'{\"username\":\"haebarassi\",\"key\":\"2eacf1d05c3217da10fbfb34a7f3208d\"}'}"
            ]
          },
          "metadata": {},
          "execution_count": 1
        }
      ]
    },
    {
      "cell_type": "code",
      "source": [
        "!mkdir -p ~/.kaggle\n",
        "!cp kaggle.json ~/.kaggle/\n",
        "# Permission Warning 이 일어나지 않도록 \n",
        "!chmod 600 ~/.kaggle/kaggle.json\n",
        "# 본인이 참가한 모든 대회 보기 \n",
        "!kaggle competitions list"
      ],
      "metadata": {
        "colab": {
          "base_uri": "https://localhost:8080/"
        },
        "id": "EHr4l5mGL1Sv",
        "outputId": "d2522710-7970-4fb4-e9b9-beb78f13a455"
      },
      "execution_count": null,
      "outputs": [
        {
          "output_type": "stream",
          "name": "stdout",
          "text": [
            "ref                                                         deadline             category            reward  teamCount  userHasEntered  \n",
            "----------------------------------------------------------  -------------------  ---------------  ---------  ---------  --------------  \n",
            "mpetitions/contradictory-my-dear-watson                     2030-07-01 23:59:00  Getting Started     Prizes         34           False  \n",
            "mpetitions/gan-getting-started                              2030-07-01 23:59:00  Getting Started     Prizes        133           False  \n",
            "mpetitions/store-sales-time-series-forecasting              2030-06-30 23:59:00  Getting Started  Knowledge       1385           False  \n",
            "mpetitions/tpu-getting-started                              2030-06-03 23:59:00  Getting Started  Knowledge        173           False  \n",
            "mpetitions/digit-recognizer                                 2030-01-01 00:00:00  Getting Started  Knowledge       2200           False  \n",
            "mpetitions/titanic                                          2030-01-01 00:00:00  Getting Started  Knowledge      14697           False  \n",
            "mpetitions/house-prices-advanced-regression-techniques      2030-01-01 00:00:00  Getting Started  Knowledge       4177           False  \n",
            "mpetitions/connectx                                         2030-01-01 00:00:00  Getting Started  Knowledge        224           False  \n",
            "mpetitions/nlp-getting-started                              2030-01-01 00:00:00  Getting Started  Knowledge        859           False  \n",
            "mpetitions/spaceship-titanic                                2030-01-01 00:00:00  Getting Started  Knowledge       1831           False  \n",
            "mpetitions/competitive-data-science-predict-future-sales    2022-12-31 23:59:00  Playground           Kudos      14636           False  \n",
            "mpetitions/ubiquant-market-prediction                       2022-07-18 23:59:00  Featured          $100,000       2893           False  \n",
            "mpetitions/uw-madison-gi-tract-image-segmentation           2022-07-14 23:59:00  Research           $25,000        219           False  \n",
            "mpetitions/kore-2022                                        2022-07-12 23:59:00  Featured           $15,000        127           False  \n",
            "mpetitions/foursquare-location-matching                     2022-07-07 23:59:00  Featured           $25,000        237           False  \n",
            "mpetitions/jpx-tokyo-stock-exchange-prediction              2022-07-05 23:59:00  Featured           $63,000        666           False  \n",
            "mpetitions/phase-ii-widsdatathon2022                        2022-06-30 23:59:00  Analytics            Kudos          0           False  \n",
            "mpetitions/us-patent-phrase-to-phrase-matching              2022-06-20 23:59:00  Featured           $25,000        832           False  \n",
            "mpetitions/image-matching-challenge-2022                    2022-06-02 23:59:00  Research           $10,000        303           False  \n",
            "mpetitions/hotel-id-to-combat-human-trafficking-2022-fgvc9  2022-05-30 23:59:00  Research         Knowledge         59           False  \n"
          ]
        }
      ]
    },
    {
      "cell_type": "code",
      "source": [
        "!ls -al"
      ],
      "metadata": {
        "colab": {
          "base_uri": "https://localhost:8080/"
        },
        "id": "n_FMOGQsNGSz",
        "outputId": "6a64aff8-5f0d-4f10-83c2-bab8f46791c5"
      },
      "execution_count": null,
      "outputs": [
        {
          "output_type": "stream",
          "name": "stdout",
          "text": [
            "total 20\n",
            "drwxr-xr-x 1 root root 4096 Apr 29 14:13 .\n",
            "drwxr-xr-x 1 root root 4096 Apr 29 14:07 ..\n",
            "drwxr-xr-x 4 root root 4096 Apr 25 13:45 .config\n",
            "-rw-r--r-- 1 root root   66 Apr 29 14:13 kaggle.json\n",
            "drwxr-xr-x 1 root root 4096 Apr 25 13:46 sample_data\n"
          ]
        }
      ]
    },
    {
      "cell_type": "code",
      "source": [
        "!ls -al ~/"
      ],
      "metadata": {
        "colab": {
          "base_uri": "https://localhost:8080/"
        },
        "id": "ZZucrz-cNIrY",
        "outputId": "deba51e7-3559-447a-e513-b0c58b1d7e3a"
      },
      "execution_count": null,
      "outputs": [
        {
          "output_type": "stream",
          "name": "stdout",
          "text": [
            "total 64\n",
            "drwx------ 1 root root 4096 Apr 29 14:13 .\n",
            "drwxr-xr-x 1 root root 4096 Apr 29 14:07 ..\n",
            "-r-xr-xr-x 1 root root 1169 Jan  1  2000 .bashrc\n",
            "drwxr-xr-x 1 root root 4096 Apr 26 13:18 .cache\n",
            "drwxr-xr-x 1 root root 4096 Apr 26 13:17 .config\n",
            "drwxr-xr-x 3 root root 4096 Apr 25 13:46 .gsutil\n",
            "drwxr-xr-x 5 root root 4096 Apr 26 13:17 .ipython\n",
            "drwx------ 2 root root 4096 Apr 26 13:17 .jupyter\n",
            "drwxr-xr-x 2 root root 4096 Apr 29 14:13 .kaggle\n",
            "drwxr-xr-x 2 root root 4096 Apr 29 14:07 .keras\n",
            "drwxr-xr-x 1 root root 4096 Apr 26 13:17 .local\n",
            "drwxr-xr-x 4 root root 4096 Apr 26 13:17 .npm\n",
            "-rw-r--r-- 1 root root  148 Aug 17  2015 .profile\n",
            "-r-xr-xr-x 1 root root  254 Jan  1  2000 .tmux.conf\n"
          ]
        }
      ]
    },
    {
      "cell_type": "code",
      "source": [
        "\n",
        "!cp kaggle.json ~/.kaggle/kaggle.json\n",
        "\n",
        "!chmod 600 ~/.kaggle/kaggle.json\n",
        "\n",
        "!ls -al ~/.kaggle/\n"
      ],
      "metadata": {
        "colab": {
          "base_uri": "https://localhost:8080/"
        },
        "id": "wSf3WPFBNTLY",
        "outputId": "68eb25dd-9e0c-4014-98d1-c3d4eee0c066"
      },
      "execution_count": null,
      "outputs": [
        {
          "output_type": "stream",
          "name": "stdout",
          "text": [
            "total 16\n",
            "drwxr-xr-x 2 root root 4096 Apr 29 14:13 .\n",
            "drwx------ 1 root root 4096 Apr 29 14:13 ..\n",
            "-rw------- 1 root root   66 Apr 29 14:13 kaggle.json\n"
          ]
        }
      ]
    },
    {
      "cell_type": "code",
      "source": [
        "!kaggle competitions list"
      ],
      "metadata": {
        "colab": {
          "base_uri": "https://localhost:8080/"
        },
        "id": "Ex6CkjIwNWb0",
        "outputId": "f48fa203-0432-46cd-9a99-31dc46a4a614"
      },
      "execution_count": null,
      "outputs": [
        {
          "output_type": "stream",
          "name": "stdout",
          "text": [
            "ref                                                         deadline             category            reward  teamCount  userHasEntered  \n",
            "----------------------------------------------------------  -------------------  ---------------  ---------  ---------  --------------  \n",
            "mpetitions/contradictory-my-dear-watson                     2030-07-01 23:59:00  Getting Started     Prizes         34           False  \n",
            "mpetitions/gan-getting-started                              2030-07-01 23:59:00  Getting Started     Prizes        133           False  \n",
            "mpetitions/store-sales-time-series-forecasting              2030-06-30 23:59:00  Getting Started  Knowledge       1385           False  \n",
            "mpetitions/tpu-getting-started                              2030-06-03 23:59:00  Getting Started  Knowledge        173           False  \n",
            "mpetitions/digit-recognizer                                 2030-01-01 00:00:00  Getting Started  Knowledge       2200           False  \n",
            "mpetitions/titanic                                          2030-01-01 00:00:00  Getting Started  Knowledge      14697           False  \n",
            "mpetitions/house-prices-advanced-regression-techniques      2030-01-01 00:00:00  Getting Started  Knowledge       4177           False  \n",
            "mpetitions/connectx                                         2030-01-01 00:00:00  Getting Started  Knowledge        224           False  \n",
            "mpetitions/nlp-getting-started                              2030-01-01 00:00:00  Getting Started  Knowledge        859           False  \n",
            "mpetitions/spaceship-titanic                                2030-01-01 00:00:00  Getting Started  Knowledge       1831           False  \n",
            "mpetitions/competitive-data-science-predict-future-sales    2022-12-31 23:59:00  Playground           Kudos      14636           False  \n",
            "mpetitions/ubiquant-market-prediction                       2022-07-18 23:59:00  Featured          $100,000       2893           False  \n",
            "mpetitions/uw-madison-gi-tract-image-segmentation           2022-07-14 23:59:00  Research           $25,000        219           False  \n",
            "mpetitions/kore-2022                                        2022-07-12 23:59:00  Featured           $15,000        127           False  \n",
            "mpetitions/foursquare-location-matching                     2022-07-07 23:59:00  Featured           $25,000        237           False  \n",
            "mpetitions/jpx-tokyo-stock-exchange-prediction              2022-07-05 23:59:00  Featured           $63,000        666           False  \n",
            "mpetitions/phase-ii-widsdatathon2022                        2022-06-30 23:59:00  Analytics            Kudos          0           False  \n",
            "mpetitions/us-patent-phrase-to-phrase-matching              2022-06-20 23:59:00  Featured           $25,000        832           False  \n",
            "mpetitions/image-matching-challenge-2022                    2022-06-02 23:59:00  Research           $10,000        303           False  \n",
            "mpetitions/hotel-id-to-combat-human-trafficking-2022-fgvc9  2022-05-30 23:59:00  Research         Knowledge         59           False  \n"
          ]
        }
      ]
    },
    {
      "cell_type": "code",
      "source": [
        "!kaggle competitions download -c titanic"
      ],
      "metadata": {
        "colab": {
          "base_uri": "https://localhost:8080/"
        },
        "id": "WQ02i7b6NcD9",
        "outputId": "edcd4a29-441b-43db-b8df-54ae9f37ba1f"
      },
      "execution_count": null,
      "outputs": [
        {
          "output_type": "stream",
          "name": "stdout",
          "text": [
            "Downloading titanic.zip to /content\n",
            "\r  0% 0.00/34.1k [00:00<?, ?B/s]\n",
            "\r100% 34.1k/34.1k [00:00<00:00, 16.5MB/s]\n"
          ]
        }
      ]
    },
    {
      "cell_type": "code",
      "source": [
        "!ls"
      ],
      "metadata": {
        "colab": {
          "base_uri": "https://localhost:8080/"
        },
        "id": "OFk-NmBVNhAv",
        "outputId": "da1f3d43-d9fc-43f7-93cb-d536ac385acb"
      },
      "execution_count": null,
      "outputs": [
        {
          "output_type": "stream",
          "name": "stdout",
          "text": [
            "kaggle.json  sample_data  titanic.zip\n"
          ]
        }
      ]
    },
    {
      "cell_type": "code",
      "source": [
        "!unzip titanic.zip"
      ],
      "metadata": {
        "colab": {
          "base_uri": "https://localhost:8080/"
        },
        "id": "jiThWbu_Oh7A",
        "outputId": "6fa629c1-7040-40c9-db71-905873f95a82"
      },
      "execution_count": null,
      "outputs": [
        {
          "output_type": "stream",
          "name": "stdout",
          "text": [
            "Archive:  titanic.zip\n",
            "  inflating: gender_submission.csv   \n",
            "  inflating: test.csv                \n",
            "  inflating: train.csv               \n"
          ]
        }
      ]
    },
    {
      "cell_type": "code",
      "source": [
        "! ls"
      ],
      "metadata": {
        "colab": {
          "base_uri": "https://localhost:8080/"
        },
        "id": "Wbsjcw2kX-is",
        "outputId": "30bca73c-d427-4620-c5f1-f3f19510bef1"
      },
      "execution_count": null,
      "outputs": [
        {
          "output_type": "stream",
          "name": "stdout",
          "text": [
            "gender_submission.csv  sample_data  titanic.zip\n",
            "kaggle.json\t       test.csv     train.csv\n"
          ]
        }
      ]
    },
    {
      "cell_type": "markdown",
      "source": [
        "- machine learning을 하는데 skitlearn을 못한다면 말이 안됨\n",
        "  - <파이썬 라이브러리를 활용한 머신러닝> 책으로 공부하기\n",
        "- python으로 table로 되어있는 데이터를 처리할 때는 pandas가 가장 적합하다!\n",
        "- 책 보기보다도  그냥 커널을 따라하면서 사람들이 많이 쓰는 데이터들에 익숙해지자"
      ],
      "metadata": {
        "id": "JtnB6SQIKuHC"
      }
    },
    {
      "cell_type": "markdown",
      "source": [
        "# dataset 확인하기"
      ],
      "metadata": {
        "id": "xh6QY1i9PDc6"
      }
    },
    {
      "cell_type": "code",
      "source": [
        "import numpy as np # numerical method에 대한 library\n",
        "import pandas as pd # dataframe 쉽게 다룰 수 있게 해줌\n",
        "import matplotlib.pyplot as plt\n",
        "import seaborn as sns\n",
        "# matplotlib, seaborn: visualization library\n",
        "\n",
        "\n",
        "plt.style.use('seaborn')\n",
        "sns.set(font_scale=2.5)\n",
        "\n",
        "import missingno as msno\n",
        "# dataset에 채워지지 않은 null data 쉽게 보여줌\n",
        "\n",
        "#ignore warnings\n",
        "import warnings\n",
        "warnings.filterwarnings('ignore')\n",
        "\n",
        "%matplotlib inline\n",
        "# 새로운 창 띄우지 않고 노트북 내에서 보여줌"
      ],
      "metadata": {
        "id": "hGprAXd5KuUl"
      },
      "execution_count": null,
      "outputs": []
    },
    {
      "cell_type": "code",
      "source": [
        "df_train = pd.read_csv('train.csv')\n",
        "df_test = pd.read_csv('test.csv')"
      ],
      "metadata": {
        "id": "cmYArekxY9fE"
      },
      "execution_count": null,
      "outputs": []
    },
    {
      "cell_type": "code",
      "source": [
        "df_train.describe()"
      ],
      "metadata": {
        "colab": {
          "base_uri": "https://localhost:8080/",
          "height": 364
        },
        "id": "UC9USEu_ZEsv",
        "outputId": "18c8f83c-27df-49a6-fa0e-47e197b4c459"
      },
      "execution_count": null,
      "outputs": [
        {
          "output_type": "execute_result",
          "data": {
            "text/plain": [
              "       PassengerId    Survived      Pclass         Age       SibSp  \\\n",
              "count   891.000000  891.000000  891.000000  714.000000  891.000000   \n",
              "mean    446.000000    0.383838    2.308642   29.699118    0.523008   \n",
              "std     257.353842    0.486592    0.836071   14.526497    1.102743   \n",
              "min       1.000000    0.000000    1.000000    0.420000    0.000000   \n",
              "25%     223.500000    0.000000    2.000000   20.125000    0.000000   \n",
              "50%     446.000000    0.000000    3.000000   28.000000    0.000000   \n",
              "75%     668.500000    1.000000    3.000000   38.000000    1.000000   \n",
              "max     891.000000    1.000000    3.000000   80.000000    8.000000   \n",
              "\n",
              "            Parch        Fare  \n",
              "count  891.000000  891.000000  \n",
              "mean     0.381594   32.204208  \n",
              "std      0.806057   49.693429  \n",
              "min      0.000000    0.000000  \n",
              "25%      0.000000    7.910400  \n",
              "50%      0.000000   14.454200  \n",
              "75%      0.000000   31.000000  \n",
              "max      6.000000  512.329200  "
            ],
            "text/html": [
              "\n",
              "  <div id=\"df-04a4344d-3a3c-40a1-8bee-4f2c46cd7500\">\n",
              "    <div class=\"colab-df-container\">\n",
              "      <div>\n",
              "<style scoped>\n",
              "    .dataframe tbody tr th:only-of-type {\n",
              "        vertical-align: middle;\n",
              "    }\n",
              "\n",
              "    .dataframe tbody tr th {\n",
              "        vertical-align: top;\n",
              "    }\n",
              "\n",
              "    .dataframe thead th {\n",
              "        text-align: right;\n",
              "    }\n",
              "</style>\n",
              "<table border=\"1\" class=\"dataframe\">\n",
              "  <thead>\n",
              "    <tr style=\"text-align: right;\">\n",
              "      <th></th>\n",
              "      <th>PassengerId</th>\n",
              "      <th>Survived</th>\n",
              "      <th>Pclass</th>\n",
              "      <th>Age</th>\n",
              "      <th>SibSp</th>\n",
              "      <th>Parch</th>\n",
              "      <th>Fare</th>\n",
              "    </tr>\n",
              "  </thead>\n",
              "  <tbody>\n",
              "    <tr>\n",
              "      <th>count</th>\n",
              "      <td>891.000000</td>\n",
              "      <td>891.000000</td>\n",
              "      <td>891.000000</td>\n",
              "      <td>714.000000</td>\n",
              "      <td>891.000000</td>\n",
              "      <td>891.000000</td>\n",
              "      <td>891.000000</td>\n",
              "    </tr>\n",
              "    <tr>\n",
              "      <th>mean</th>\n",
              "      <td>446.000000</td>\n",
              "      <td>0.383838</td>\n",
              "      <td>2.308642</td>\n",
              "      <td>29.699118</td>\n",
              "      <td>0.523008</td>\n",
              "      <td>0.381594</td>\n",
              "      <td>32.204208</td>\n",
              "    </tr>\n",
              "    <tr>\n",
              "      <th>std</th>\n",
              "      <td>257.353842</td>\n",
              "      <td>0.486592</td>\n",
              "      <td>0.836071</td>\n",
              "      <td>14.526497</td>\n",
              "      <td>1.102743</td>\n",
              "      <td>0.806057</td>\n",
              "      <td>49.693429</td>\n",
              "    </tr>\n",
              "    <tr>\n",
              "      <th>min</th>\n",
              "      <td>1.000000</td>\n",
              "      <td>0.000000</td>\n",
              "      <td>1.000000</td>\n",
              "      <td>0.420000</td>\n",
              "      <td>0.000000</td>\n",
              "      <td>0.000000</td>\n",
              "      <td>0.000000</td>\n",
              "    </tr>\n",
              "    <tr>\n",
              "      <th>25%</th>\n",
              "      <td>223.500000</td>\n",
              "      <td>0.000000</td>\n",
              "      <td>2.000000</td>\n",
              "      <td>20.125000</td>\n",
              "      <td>0.000000</td>\n",
              "      <td>0.000000</td>\n",
              "      <td>7.910400</td>\n",
              "    </tr>\n",
              "    <tr>\n",
              "      <th>50%</th>\n",
              "      <td>446.000000</td>\n",
              "      <td>0.000000</td>\n",
              "      <td>3.000000</td>\n",
              "      <td>28.000000</td>\n",
              "      <td>0.000000</td>\n",
              "      <td>0.000000</td>\n",
              "      <td>14.454200</td>\n",
              "    </tr>\n",
              "    <tr>\n",
              "      <th>75%</th>\n",
              "      <td>668.500000</td>\n",
              "      <td>1.000000</td>\n",
              "      <td>3.000000</td>\n",
              "      <td>38.000000</td>\n",
              "      <td>1.000000</td>\n",
              "      <td>0.000000</td>\n",
              "      <td>31.000000</td>\n",
              "    </tr>\n",
              "    <tr>\n",
              "      <th>max</th>\n",
              "      <td>891.000000</td>\n",
              "      <td>1.000000</td>\n",
              "      <td>3.000000</td>\n",
              "      <td>80.000000</td>\n",
              "      <td>8.000000</td>\n",
              "      <td>6.000000</td>\n",
              "      <td>512.329200</td>\n",
              "    </tr>\n",
              "  </tbody>\n",
              "</table>\n",
              "</div>\n",
              "      <button class=\"colab-df-convert\" onclick=\"convertToInteractive('df-04a4344d-3a3c-40a1-8bee-4f2c46cd7500')\"\n",
              "              title=\"Convert this dataframe to an interactive table.\"\n",
              "              style=\"display:none;\">\n",
              "        \n",
              "  <svg xmlns=\"http://www.w3.org/2000/svg\" height=\"24px\"viewBox=\"0 0 24 24\"\n",
              "       width=\"24px\">\n",
              "    <path d=\"M0 0h24v24H0V0z\" fill=\"none\"/>\n",
              "    <path d=\"M18.56 5.44l.94 2.06.94-2.06 2.06-.94-2.06-.94-.94-2.06-.94 2.06-2.06.94zm-11 1L8.5 8.5l.94-2.06 2.06-.94-2.06-.94L8.5 2.5l-.94 2.06-2.06.94zm10 10l.94 2.06.94-2.06 2.06-.94-2.06-.94-.94-2.06-.94 2.06-2.06.94z\"/><path d=\"M17.41 7.96l-1.37-1.37c-.4-.4-.92-.59-1.43-.59-.52 0-1.04.2-1.43.59L10.3 9.45l-7.72 7.72c-.78.78-.78 2.05 0 2.83L4 21.41c.39.39.9.59 1.41.59.51 0 1.02-.2 1.41-.59l7.78-7.78 2.81-2.81c.8-.78.8-2.07 0-2.86zM5.41 20L4 18.59l7.72-7.72 1.47 1.35L5.41 20z\"/>\n",
              "  </svg>\n",
              "      </button>\n",
              "      \n",
              "  <style>\n",
              "    .colab-df-container {\n",
              "      display:flex;\n",
              "      flex-wrap:wrap;\n",
              "      gap: 12px;\n",
              "    }\n",
              "\n",
              "    .colab-df-convert {\n",
              "      background-color: #E8F0FE;\n",
              "      border: none;\n",
              "      border-radius: 50%;\n",
              "      cursor: pointer;\n",
              "      display: none;\n",
              "      fill: #1967D2;\n",
              "      height: 32px;\n",
              "      padding: 0 0 0 0;\n",
              "      width: 32px;\n",
              "    }\n",
              "\n",
              "    .colab-df-convert:hover {\n",
              "      background-color: #E2EBFA;\n",
              "      box-shadow: 0px 1px 2px rgba(60, 64, 67, 0.3), 0px 1px 3px 1px rgba(60, 64, 67, 0.15);\n",
              "      fill: #174EA6;\n",
              "    }\n",
              "\n",
              "    [theme=dark] .colab-df-convert {\n",
              "      background-color: #3B4455;\n",
              "      fill: #D2E3FC;\n",
              "    }\n",
              "\n",
              "    [theme=dark] .colab-df-convert:hover {\n",
              "      background-color: #434B5C;\n",
              "      box-shadow: 0px 1px 3px 1px rgba(0, 0, 0, 0.15);\n",
              "      filter: drop-shadow(0px 1px 2px rgba(0, 0, 0, 0.3));\n",
              "      fill: #FFFFFF;\n",
              "    }\n",
              "  </style>\n",
              "\n",
              "      <script>\n",
              "        const buttonEl =\n",
              "          document.querySelector('#df-04a4344d-3a3c-40a1-8bee-4f2c46cd7500 button.colab-df-convert');\n",
              "        buttonEl.style.display =\n",
              "          google.colab.kernel.accessAllowed ? 'block' : 'none';\n",
              "\n",
              "        async function convertToInteractive(key) {\n",
              "          const element = document.querySelector('#df-04a4344d-3a3c-40a1-8bee-4f2c46cd7500');\n",
              "          const dataTable =\n",
              "            await google.colab.kernel.invokeFunction('convertToInteractive',\n",
              "                                                     [key], {});\n",
              "          if (!dataTable) return;\n",
              "\n",
              "          const docLinkHtml = 'Like what you see? Visit the ' +\n",
              "            '<a target=\"_blank\" href=https://colab.research.google.com/notebooks/data_table.ipynb>data table notebook</a>'\n",
              "            + ' to learn more about interactive tables.';\n",
              "          element.innerHTML = '';\n",
              "          dataTable['output_type'] = 'display_data';\n",
              "          await google.colab.output.renderOutput(dataTable, element);\n",
              "          const docLink = document.createElement('div');\n",
              "          docLink.innerHTML = docLinkHtml;\n",
              "          element.appendChild(docLink);\n",
              "        }\n",
              "      </script>\n",
              "    </div>\n",
              "  </div>\n",
              "  "
            ]
          },
          "metadata": {},
          "execution_count": 15
        }
      ]
    },
    {
      "cell_type": "markdown",
      "source": [
        "## dataset 확인하기"
      ],
      "metadata": {
        "id": "yoeOe4qpKzg5"
      }
    },
    {
      "cell_type": "markdown",
      "source": [
        "datatype마다 feature 처리하는 방법이 달라진다.\n",
        "- continuous\n",
        "- categorical\n",
        "- binary\n",
        "- ordinary"
      ],
      "metadata": {
        "id": "sgL_BHe1PVmE"
      }
    },
    {
      "cell_type": "code",
      "source": [
        "# 데이터 어떤식으로 구성되어있는지 확인해보자\n",
        "df_train.head(5) "
      ],
      "metadata": {
        "id": "mboNKwagN_-o",
        "colab": {
          "base_uri": "https://localhost:8080/",
          "height": 548
        },
        "outputId": "ec54a2ee-56c6-4990-bcf9-4d9704d2bb3f"
      },
      "execution_count": null,
      "outputs": [
        {
          "output_type": "execute_result",
          "data": {
            "text/plain": [
              "   PassengerId  Survived  Pclass  \\\n",
              "0            1         0       3   \n",
              "1            2         1       1   \n",
              "2            3         1       3   \n",
              "3            4         1       1   \n",
              "4            5         0       3   \n",
              "\n",
              "                                                Name     Sex   Age  SibSp  \\\n",
              "0                            Braund, Mr. Owen Harris    male  22.0      1   \n",
              "1  Cumings, Mrs. John Bradley (Florence Briggs Th...  female  38.0      1   \n",
              "2                             Heikkinen, Miss. Laina  female  26.0      0   \n",
              "3       Futrelle, Mrs. Jacques Heath (Lily May Peel)  female  35.0      1   \n",
              "4                           Allen, Mr. William Henry    male  35.0      0   \n",
              "\n",
              "   Parch            Ticket     Fare Cabin Embarked  \n",
              "0      0         A/5 21171   7.2500   NaN        S  \n",
              "1      0          PC 17599  71.2833   C85        C  \n",
              "2      0  STON/O2. 3101282   7.9250   NaN        S  \n",
              "3      0            113803  53.1000  C123        S  \n",
              "4      0            373450   8.0500   NaN        S  "
            ],
            "text/html": [
              "\n",
              "  <div id=\"df-d58aa2b1-9dda-4e1c-adeb-5ed191d27081\">\n",
              "    <div class=\"colab-df-container\">\n",
              "      <div>\n",
              "<style scoped>\n",
              "    .dataframe tbody tr th:only-of-type {\n",
              "        vertical-align: middle;\n",
              "    }\n",
              "\n",
              "    .dataframe tbody tr th {\n",
              "        vertical-align: top;\n",
              "    }\n",
              "\n",
              "    .dataframe thead th {\n",
              "        text-align: right;\n",
              "    }\n",
              "</style>\n",
              "<table border=\"1\" class=\"dataframe\">\n",
              "  <thead>\n",
              "    <tr style=\"text-align: right;\">\n",
              "      <th></th>\n",
              "      <th>PassengerId</th>\n",
              "      <th>Survived</th>\n",
              "      <th>Pclass</th>\n",
              "      <th>Name</th>\n",
              "      <th>Sex</th>\n",
              "      <th>Age</th>\n",
              "      <th>SibSp</th>\n",
              "      <th>Parch</th>\n",
              "      <th>Ticket</th>\n",
              "      <th>Fare</th>\n",
              "      <th>Cabin</th>\n",
              "      <th>Embarked</th>\n",
              "    </tr>\n",
              "  </thead>\n",
              "  <tbody>\n",
              "    <tr>\n",
              "      <th>0</th>\n",
              "      <td>1</td>\n",
              "      <td>0</td>\n",
              "      <td>3</td>\n",
              "      <td>Braund, Mr. Owen Harris</td>\n",
              "      <td>male</td>\n",
              "      <td>22.0</td>\n",
              "      <td>1</td>\n",
              "      <td>0</td>\n",
              "      <td>A/5 21171</td>\n",
              "      <td>7.2500</td>\n",
              "      <td>NaN</td>\n",
              "      <td>S</td>\n",
              "    </tr>\n",
              "    <tr>\n",
              "      <th>1</th>\n",
              "      <td>2</td>\n",
              "      <td>1</td>\n",
              "      <td>1</td>\n",
              "      <td>Cumings, Mrs. John Bradley (Florence Briggs Th...</td>\n",
              "      <td>female</td>\n",
              "      <td>38.0</td>\n",
              "      <td>1</td>\n",
              "      <td>0</td>\n",
              "      <td>PC 17599</td>\n",
              "      <td>71.2833</td>\n",
              "      <td>C85</td>\n",
              "      <td>C</td>\n",
              "    </tr>\n",
              "    <tr>\n",
              "      <th>2</th>\n",
              "      <td>3</td>\n",
              "      <td>1</td>\n",
              "      <td>3</td>\n",
              "      <td>Heikkinen, Miss. Laina</td>\n",
              "      <td>female</td>\n",
              "      <td>26.0</td>\n",
              "      <td>0</td>\n",
              "      <td>0</td>\n",
              "      <td>STON/O2. 3101282</td>\n",
              "      <td>7.9250</td>\n",
              "      <td>NaN</td>\n",
              "      <td>S</td>\n",
              "    </tr>\n",
              "    <tr>\n",
              "      <th>3</th>\n",
              "      <td>4</td>\n",
              "      <td>1</td>\n",
              "      <td>1</td>\n",
              "      <td>Futrelle, Mrs. Jacques Heath (Lily May Peel)</td>\n",
              "      <td>female</td>\n",
              "      <td>35.0</td>\n",
              "      <td>1</td>\n",
              "      <td>0</td>\n",
              "      <td>113803</td>\n",
              "      <td>53.1000</td>\n",
              "      <td>C123</td>\n",
              "      <td>S</td>\n",
              "    </tr>\n",
              "    <tr>\n",
              "      <th>4</th>\n",
              "      <td>5</td>\n",
              "      <td>0</td>\n",
              "      <td>3</td>\n",
              "      <td>Allen, Mr. William Henry</td>\n",
              "      <td>male</td>\n",
              "      <td>35.0</td>\n",
              "      <td>0</td>\n",
              "      <td>0</td>\n",
              "      <td>373450</td>\n",
              "      <td>8.0500</td>\n",
              "      <td>NaN</td>\n",
              "      <td>S</td>\n",
              "    </tr>\n",
              "  </tbody>\n",
              "</table>\n",
              "</div>\n",
              "      <button class=\"colab-df-convert\" onclick=\"convertToInteractive('df-d58aa2b1-9dda-4e1c-adeb-5ed191d27081')\"\n",
              "              title=\"Convert this dataframe to an interactive table.\"\n",
              "              style=\"display:none;\">\n",
              "        \n",
              "  <svg xmlns=\"http://www.w3.org/2000/svg\" height=\"24px\"viewBox=\"0 0 24 24\"\n",
              "       width=\"24px\">\n",
              "    <path d=\"M0 0h24v24H0V0z\" fill=\"none\"/>\n",
              "    <path d=\"M18.56 5.44l.94 2.06.94-2.06 2.06-.94-2.06-.94-.94-2.06-.94 2.06-2.06.94zm-11 1L8.5 8.5l.94-2.06 2.06-.94-2.06-.94L8.5 2.5l-.94 2.06-2.06.94zm10 10l.94 2.06.94-2.06 2.06-.94-2.06-.94-.94-2.06-.94 2.06-2.06.94z\"/><path d=\"M17.41 7.96l-1.37-1.37c-.4-.4-.92-.59-1.43-.59-.52 0-1.04.2-1.43.59L10.3 9.45l-7.72 7.72c-.78.78-.78 2.05 0 2.83L4 21.41c.39.39.9.59 1.41.59.51 0 1.02-.2 1.41-.59l7.78-7.78 2.81-2.81c.8-.78.8-2.07 0-2.86zM5.41 20L4 18.59l7.72-7.72 1.47 1.35L5.41 20z\"/>\n",
              "  </svg>\n",
              "      </button>\n",
              "      \n",
              "  <style>\n",
              "    .colab-df-container {\n",
              "      display:flex;\n",
              "      flex-wrap:wrap;\n",
              "      gap: 12px;\n",
              "    }\n",
              "\n",
              "    .colab-df-convert {\n",
              "      background-color: #E8F0FE;\n",
              "      border: none;\n",
              "      border-radius: 50%;\n",
              "      cursor: pointer;\n",
              "      display: none;\n",
              "      fill: #1967D2;\n",
              "      height: 32px;\n",
              "      padding: 0 0 0 0;\n",
              "      width: 32px;\n",
              "    }\n",
              "\n",
              "    .colab-df-convert:hover {\n",
              "      background-color: #E2EBFA;\n",
              "      box-shadow: 0px 1px 2px rgba(60, 64, 67, 0.3), 0px 1px 3px 1px rgba(60, 64, 67, 0.15);\n",
              "      fill: #174EA6;\n",
              "    }\n",
              "\n",
              "    [theme=dark] .colab-df-convert {\n",
              "      background-color: #3B4455;\n",
              "      fill: #D2E3FC;\n",
              "    }\n",
              "\n",
              "    [theme=dark] .colab-df-convert:hover {\n",
              "      background-color: #434B5C;\n",
              "      box-shadow: 0px 1px 3px 1px rgba(0, 0, 0, 0.15);\n",
              "      filter: drop-shadow(0px 1px 2px rgba(0, 0, 0, 0.3));\n",
              "      fill: #FFFFFF;\n",
              "    }\n",
              "  </style>\n",
              "\n",
              "      <script>\n",
              "        const buttonEl =\n",
              "          document.querySelector('#df-d58aa2b1-9dda-4e1c-adeb-5ed191d27081 button.colab-df-convert');\n",
              "        buttonEl.style.display =\n",
              "          google.colab.kernel.accessAllowed ? 'block' : 'none';\n",
              "\n",
              "        async function convertToInteractive(key) {\n",
              "          const element = document.querySelector('#df-d58aa2b1-9dda-4e1c-adeb-5ed191d27081');\n",
              "          const dataTable =\n",
              "            await google.colab.kernel.invokeFunction('convertToInteractive',\n",
              "                                                     [key], {});\n",
              "          if (!dataTable) return;\n",
              "\n",
              "          const docLinkHtml = 'Like what you see? Visit the ' +\n",
              "            '<a target=\"_blank\" href=https://colab.research.google.com/notebooks/data_table.ipynb>data table notebook</a>'\n",
              "            + ' to learn more about interactive tables.';\n",
              "          element.innerHTML = '';\n",
              "          dataTable['output_type'] = 'display_data';\n",
              "          await google.colab.output.renderOutput(dataTable, element);\n",
              "          const docLink = document.createElement('div');\n",
              "          docLink.innerHTML = docLinkHtml;\n",
              "          element.appendChild(docLink);\n",
              "        }\n",
              "      </script>\n",
              "    </div>\n",
              "  </div>\n",
              "  "
            ]
          },
          "metadata": {},
          "execution_count": 16
        }
      ]
    },
    {
      "cell_type": "code",
      "source": [
        "df_train.describe()\n",
        "# age를 보면 count가 혼자만 714임 -> null data가 있다!"
      ],
      "metadata": {
        "id": "hirAy9AUQmd8",
        "colab": {
          "base_uri": "https://localhost:8080/",
          "height": 364
        },
        "outputId": "3ee7275a-bd70-449d-ea64-9b24f32f2215"
      },
      "execution_count": null,
      "outputs": [
        {
          "output_type": "execute_result",
          "data": {
            "text/plain": [
              "       PassengerId    Survived      Pclass         Age       SibSp  \\\n",
              "count   891.000000  891.000000  891.000000  714.000000  891.000000   \n",
              "mean    446.000000    0.383838    2.308642   29.699118    0.523008   \n",
              "std     257.353842    0.486592    0.836071   14.526497    1.102743   \n",
              "min       1.000000    0.000000    1.000000    0.420000    0.000000   \n",
              "25%     223.500000    0.000000    2.000000   20.125000    0.000000   \n",
              "50%     446.000000    0.000000    3.000000   28.000000    0.000000   \n",
              "75%     668.500000    1.000000    3.000000   38.000000    1.000000   \n",
              "max     891.000000    1.000000    3.000000   80.000000    8.000000   \n",
              "\n",
              "            Parch        Fare  \n",
              "count  891.000000  891.000000  \n",
              "mean     0.381594   32.204208  \n",
              "std      0.806057   49.693429  \n",
              "min      0.000000    0.000000  \n",
              "25%      0.000000    7.910400  \n",
              "50%      0.000000   14.454200  \n",
              "75%      0.000000   31.000000  \n",
              "max      6.000000  512.329200  "
            ],
            "text/html": [
              "\n",
              "  <div id=\"df-30631064-ba83-435c-a143-49e968a53de8\">\n",
              "    <div class=\"colab-df-container\">\n",
              "      <div>\n",
              "<style scoped>\n",
              "    .dataframe tbody tr th:only-of-type {\n",
              "        vertical-align: middle;\n",
              "    }\n",
              "\n",
              "    .dataframe tbody tr th {\n",
              "        vertical-align: top;\n",
              "    }\n",
              "\n",
              "    .dataframe thead th {\n",
              "        text-align: right;\n",
              "    }\n",
              "</style>\n",
              "<table border=\"1\" class=\"dataframe\">\n",
              "  <thead>\n",
              "    <tr style=\"text-align: right;\">\n",
              "      <th></th>\n",
              "      <th>PassengerId</th>\n",
              "      <th>Survived</th>\n",
              "      <th>Pclass</th>\n",
              "      <th>Age</th>\n",
              "      <th>SibSp</th>\n",
              "      <th>Parch</th>\n",
              "      <th>Fare</th>\n",
              "    </tr>\n",
              "  </thead>\n",
              "  <tbody>\n",
              "    <tr>\n",
              "      <th>count</th>\n",
              "      <td>891.000000</td>\n",
              "      <td>891.000000</td>\n",
              "      <td>891.000000</td>\n",
              "      <td>714.000000</td>\n",
              "      <td>891.000000</td>\n",
              "      <td>891.000000</td>\n",
              "      <td>891.000000</td>\n",
              "    </tr>\n",
              "    <tr>\n",
              "      <th>mean</th>\n",
              "      <td>446.000000</td>\n",
              "      <td>0.383838</td>\n",
              "      <td>2.308642</td>\n",
              "      <td>29.699118</td>\n",
              "      <td>0.523008</td>\n",
              "      <td>0.381594</td>\n",
              "      <td>32.204208</td>\n",
              "    </tr>\n",
              "    <tr>\n",
              "      <th>std</th>\n",
              "      <td>257.353842</td>\n",
              "      <td>0.486592</td>\n",
              "      <td>0.836071</td>\n",
              "      <td>14.526497</td>\n",
              "      <td>1.102743</td>\n",
              "      <td>0.806057</td>\n",
              "      <td>49.693429</td>\n",
              "    </tr>\n",
              "    <tr>\n",
              "      <th>min</th>\n",
              "      <td>1.000000</td>\n",
              "      <td>0.000000</td>\n",
              "      <td>1.000000</td>\n",
              "      <td>0.420000</td>\n",
              "      <td>0.000000</td>\n",
              "      <td>0.000000</td>\n",
              "      <td>0.000000</td>\n",
              "    </tr>\n",
              "    <tr>\n",
              "      <th>25%</th>\n",
              "      <td>223.500000</td>\n",
              "      <td>0.000000</td>\n",
              "      <td>2.000000</td>\n",
              "      <td>20.125000</td>\n",
              "      <td>0.000000</td>\n",
              "      <td>0.000000</td>\n",
              "      <td>7.910400</td>\n",
              "    </tr>\n",
              "    <tr>\n",
              "      <th>50%</th>\n",
              "      <td>446.000000</td>\n",
              "      <td>0.000000</td>\n",
              "      <td>3.000000</td>\n",
              "      <td>28.000000</td>\n",
              "      <td>0.000000</td>\n",
              "      <td>0.000000</td>\n",
              "      <td>14.454200</td>\n",
              "    </tr>\n",
              "    <tr>\n",
              "      <th>75%</th>\n",
              "      <td>668.500000</td>\n",
              "      <td>1.000000</td>\n",
              "      <td>3.000000</td>\n",
              "      <td>38.000000</td>\n",
              "      <td>1.000000</td>\n",
              "      <td>0.000000</td>\n",
              "      <td>31.000000</td>\n",
              "    </tr>\n",
              "    <tr>\n",
              "      <th>max</th>\n",
              "      <td>891.000000</td>\n",
              "      <td>1.000000</td>\n",
              "      <td>3.000000</td>\n",
              "      <td>80.000000</td>\n",
              "      <td>8.000000</td>\n",
              "      <td>6.000000</td>\n",
              "      <td>512.329200</td>\n",
              "    </tr>\n",
              "  </tbody>\n",
              "</table>\n",
              "</div>\n",
              "      <button class=\"colab-df-convert\" onclick=\"convertToInteractive('df-30631064-ba83-435c-a143-49e968a53de8')\"\n",
              "              title=\"Convert this dataframe to an interactive table.\"\n",
              "              style=\"display:none;\">\n",
              "        \n",
              "  <svg xmlns=\"http://www.w3.org/2000/svg\" height=\"24px\"viewBox=\"0 0 24 24\"\n",
              "       width=\"24px\">\n",
              "    <path d=\"M0 0h24v24H0V0z\" fill=\"none\"/>\n",
              "    <path d=\"M18.56 5.44l.94 2.06.94-2.06 2.06-.94-2.06-.94-.94-2.06-.94 2.06-2.06.94zm-11 1L8.5 8.5l.94-2.06 2.06-.94-2.06-.94L8.5 2.5l-.94 2.06-2.06.94zm10 10l.94 2.06.94-2.06 2.06-.94-2.06-.94-.94-2.06-.94 2.06-2.06.94z\"/><path d=\"M17.41 7.96l-1.37-1.37c-.4-.4-.92-.59-1.43-.59-.52 0-1.04.2-1.43.59L10.3 9.45l-7.72 7.72c-.78.78-.78 2.05 0 2.83L4 21.41c.39.39.9.59 1.41.59.51 0 1.02-.2 1.41-.59l7.78-7.78 2.81-2.81c.8-.78.8-2.07 0-2.86zM5.41 20L4 18.59l7.72-7.72 1.47 1.35L5.41 20z\"/>\n",
              "  </svg>\n",
              "      </button>\n",
              "      \n",
              "  <style>\n",
              "    .colab-df-container {\n",
              "      display:flex;\n",
              "      flex-wrap:wrap;\n",
              "      gap: 12px;\n",
              "    }\n",
              "\n",
              "    .colab-df-convert {\n",
              "      background-color: #E8F0FE;\n",
              "      border: none;\n",
              "      border-radius: 50%;\n",
              "      cursor: pointer;\n",
              "      display: none;\n",
              "      fill: #1967D2;\n",
              "      height: 32px;\n",
              "      padding: 0 0 0 0;\n",
              "      width: 32px;\n",
              "    }\n",
              "\n",
              "    .colab-df-convert:hover {\n",
              "      background-color: #E2EBFA;\n",
              "      box-shadow: 0px 1px 2px rgba(60, 64, 67, 0.3), 0px 1px 3px 1px rgba(60, 64, 67, 0.15);\n",
              "      fill: #174EA6;\n",
              "    }\n",
              "\n",
              "    [theme=dark] .colab-df-convert {\n",
              "      background-color: #3B4455;\n",
              "      fill: #D2E3FC;\n",
              "    }\n",
              "\n",
              "    [theme=dark] .colab-df-convert:hover {\n",
              "      background-color: #434B5C;\n",
              "      box-shadow: 0px 1px 3px 1px rgba(0, 0, 0, 0.15);\n",
              "      filter: drop-shadow(0px 1px 2px rgba(0, 0, 0, 0.3));\n",
              "      fill: #FFFFFF;\n",
              "    }\n",
              "  </style>\n",
              "\n",
              "      <script>\n",
              "        const buttonEl =\n",
              "          document.querySelector('#df-30631064-ba83-435c-a143-49e968a53de8 button.colab-df-convert');\n",
              "        buttonEl.style.display =\n",
              "          google.colab.kernel.accessAllowed ? 'block' : 'none';\n",
              "\n",
              "        async function convertToInteractive(key) {\n",
              "          const element = document.querySelector('#df-30631064-ba83-435c-a143-49e968a53de8');\n",
              "          const dataTable =\n",
              "            await google.colab.kernel.invokeFunction('convertToInteractive',\n",
              "                                                     [key], {});\n",
              "          if (!dataTable) return;\n",
              "\n",
              "          const docLinkHtml = 'Like what you see? Visit the ' +\n",
              "            '<a target=\"_blank\" href=https://colab.research.google.com/notebooks/data_table.ipynb>data table notebook</a>'\n",
              "            + ' to learn more about interactive tables.';\n",
              "          element.innerHTML = '';\n",
              "          dataTable['output_type'] = 'display_data';\n",
              "          await google.colab.output.renderOutput(dataTable, element);\n",
              "          const docLink = document.createElement('div');\n",
              "          docLink.innerHTML = docLinkHtml;\n",
              "          element.appendChild(docLink);\n",
              "        }\n",
              "      </script>\n",
              "    </div>\n",
              "  </div>\n",
              "  "
            ]
          },
          "metadata": {},
          "execution_count": 17
        }
      ]
    },
    {
      "cell_type": "code",
      "source": [
        "df_train.shape"
      ],
      "metadata": {
        "id": "tNmGAXXfQnmI",
        "colab": {
          "base_uri": "https://localhost:8080/"
        },
        "outputId": "30dbd300-65dc-4451-e6f8-99c8acf9e377"
      },
      "execution_count": null,
      "outputs": [
        {
          "output_type": "execute_result",
          "data": {
            "text/plain": [
              "(891, 12)"
            ]
          },
          "metadata": {},
          "execution_count": 18
        }
      ]
    },
    {
      "cell_type": "code",
      "source": [
        "df_train.max()"
      ],
      "metadata": {
        "id": "gp7UmH4MQo2j",
        "colab": {
          "base_uri": "https://localhost:8080/"
        },
        "outputId": "56c304dd-a685-4b40-cc7c-013d25b16fb6"
      },
      "execution_count": null,
      "outputs": [
        {
          "output_type": "execute_result",
          "data": {
            "text/plain": [
              "PassengerId                            891\n",
              "Survived                                 1\n",
              "Pclass                                   3\n",
              "Name           van Melkebeke, Mr. Philemon\n",
              "Sex                                   male\n",
              "Age                                   80.0\n",
              "SibSp                                    8\n",
              "Parch                                    6\n",
              "Ticket                           WE/P 5735\n",
              "Fare                              512.3292\n",
              "dtype: object"
            ]
          },
          "metadata": {},
          "execution_count": 19
        }
      ]
    },
    {
      "cell_type": "code",
      "source": [
        "# null data 비율을 알아보자\n",
        "for col in df_train.columns:\n",
        "    msg = 'column: {:>10}\\t Percent fo NaN value: {:.2f}%'.format(col,100*(df_train[col].isnull().sum()/df_train[col].shape[0]))\n",
        "    print(msg)\n",
        "# 1) df_train[col].isnull().sum()\n",
        "# isnull 메소드는 true일 때 1, false일 때 0을 나타낸다.\n",
        "# Series 객체에 sum 을 주면 합을 나타냄\n",
        "# isnull().sum()에서 나온 값의 의미는 true인 값의 개수일 것이다. \n",
        "\n",
        "# 2) df_train[col].shape[0]\n",
        "# Embarked 라는 시리즈의 shape로 나눠주면 비율 알 수 있을 것"
      ],
      "metadata": {
        "id": "HBQTKae0QquA",
        "colab": {
          "base_uri": "https://localhost:8080/"
        },
        "outputId": "c4e6dd27-7365-470c-a223-5cf01e94eabf"
      },
      "execution_count": null,
      "outputs": [
        {
          "output_type": "stream",
          "name": "stdout",
          "text": [
            "column: PassengerId\t Percent fo NaN value: 0.00%\n",
            "column:   Survived\t Percent fo NaN value: 0.00%\n",
            "column:     Pclass\t Percent fo NaN value: 0.00%\n",
            "column:       Name\t Percent fo NaN value: 0.00%\n",
            "column:        Sex\t Percent fo NaN value: 0.00%\n",
            "column:        Age\t Percent fo NaN value: 19.87%\n",
            "column:      SibSp\t Percent fo NaN value: 0.00%\n",
            "column:      Parch\t Percent fo NaN value: 0.00%\n",
            "column:     Ticket\t Percent fo NaN value: 0.00%\n",
            "column:       Fare\t Percent fo NaN value: 0.00%\n",
            "column:      Cabin\t Percent fo NaN value: 77.10%\n",
            "column:   Embarked\t Percent fo NaN value: 0.22%\n"
          ]
        }
      ]
    },
    {
      "cell_type": "code",
      "source": [
        "for col in df_test.columns:\n",
        "    msg = 'column: {:>10}\\t Percent fo NaN value: {:.2f}%'.format(col,100*(df_test[col].isnull().sum()/df_test[col].shape[0]))\n",
        "    print(msg)"
      ],
      "metadata": {
        "id": "MC3LgJ5zQs2i",
        "colab": {
          "base_uri": "https://localhost:8080/"
        },
        "outputId": "0d2eb54f-9eeb-44a1-950c-d19c87d04291"
      },
      "execution_count": null,
      "outputs": [
        {
          "output_type": "stream",
          "name": "stdout",
          "text": [
            "column: PassengerId\t Percent fo NaN value: 0.00%\n",
            "column:     Pclass\t Percent fo NaN value: 0.00%\n",
            "column:       Name\t Percent fo NaN value: 0.00%\n",
            "column:        Sex\t Percent fo NaN value: 0.00%\n",
            "column:        Age\t Percent fo NaN value: 20.57%\n",
            "column:      SibSp\t Percent fo NaN value: 0.00%\n",
            "column:      Parch\t Percent fo NaN value: 0.00%\n",
            "column:     Ticket\t Percent fo NaN value: 0.00%\n",
            "column:       Fare\t Percent fo NaN value: 0.24%\n",
            "column:      Cabin\t Percent fo NaN value: 78.23%\n",
            "column:   Embarked\t Percent fo NaN value: 0.00%\n"
          ]
        }
      ]
    },
    {
      "cell_type": "code",
      "source": [
        "msno.matrix(df=df_train.iloc[:,:], figsize=(8,8), color=(0.9, 0.5, 0.2))\n",
        "# 보이는 빈칸이 null. null 어디에 있는지 위치 알려줌"
      ],
      "metadata": {
        "id": "MoymMvByQutj",
        "colab": {
          "base_uri": "https://localhost:8080/",
          "height": 587
        },
        "outputId": "9a64c889-04d2-426e-d824-9feeb44b7d2b"
      },
      "execution_count": null,
      "outputs": [
        {
          "output_type": "execute_result",
          "data": {
            "text/plain": [
              "<matplotlib.axes._subplots.AxesSubplot at 0x7fdca5c9c090>"
            ]
          },
          "metadata": {},
          "execution_count": 22
        },
        {
          "output_type": "display_data",
          "data": {
            "text/plain": [
              "<Figure size 576x576 with 2 Axes>"
            ],
            "image/png": "[encoded data removed]"
          },
          "metadata": {
            "needs_background": "light"
          }
        }
      ]
    },
    {
      "cell_type": "code",
      "source": [
        "# iloc <- pandas에서 내가 원하는 row, coloum에 있는 데이터만 가져오는 방법\n",
        "# df_train.iloc[2:5,1:7]"
      ],
      "metadata": {
        "id": "7n1KOV2kQxII"
      },
      "execution_count": null,
      "outputs": []
    },
    {
      "cell_type": "code",
      "source": [
        "msno.bar(df=df_train.iloc[:,:], figsize=(8,8), color=(0.9, 0.5, 0.2))\n",
        "# null의 직접적 퍼센트 보여줌"
      ],
      "metadata": {
        "id": "SZl_-70mQy47"
      },
      "execution_count": null,
      "outputs": []
    },
    {
      "cell_type": "markdown",
      "source": [
        "## 우리가 목적으로 하고 있는 target lable이 어떤 distribution 가지고 있는지 확인해야한다."
      ],
      "metadata": {
        "id": "Rm2VBr-0Q0eo"
      }
    },
    {
      "cell_type": "code",
      "source": [
        "# 1. 도화지를 준비하는 과정\n",
        "f, ax = plt.subplots(1,2,figsize=(18,8))\n",
        "# 1: 하나의 행에, 2: 두개의 열을 가지는, (18,8) size의 그림을 그릴거야. \n",
        "\n",
        "df_train['Survived'].value_counts().plot.pie(explode=[0,0.1],autopct='%1.1f%%',ax=ax[0],shadow=True)\n",
        "ax[0].set_title('Pie plot - Survived')\n",
        "ax[0].set_ylabel('')\n",
        "sns.countplot('Survived',data=df_train, ax=ax[1])\n",
        "ax[1].set_title('Count plot - Survived')\n",
        "plt.show()"
      ],
      "metadata": {
        "id": "Ct8HL34iQ6Qf",
        "colab": {
          "base_uri": "https://localhost:8080/",
          "height": 370
        },
        "outputId": "88f38bd9-0528-41a9-9923-2834ea92579b"
      },
      "execution_count": null,
      "outputs": [
        {
          "output_type": "display_data",
          "data": {
            "text/plain": [
              "<Figure size 1296x576 with 2 Axes>"
            ],
            "image/png": "[encoded data removed]"
          },
          "metadata": {
            "needs_background": "light"
          }
        }
      ]
    },
    {
      "cell_type": "markdown",
      "source": [
        "-> 61%의 생존률\n",
        "- 우리가 구하려는 '생존률'에 대한 train data가 balanced하다\n",
        "- 만약 1% 같은 극단적 생존률을 가졌다면, imbalanced한 데이터이므로 생존률에 대한 예측을 잘 하는 모델을 만들 수가 없을 것이다.\n",
        "\n",
        "- 모르는 건 그냥 한 번 쳐보자!\n",
        "-  type 확인해보기 -> Series (일관성 때문에 항상 시리즈로 주어진다)\n",
        "- .plot() 메소드 이용해서 그래프 그려보자.\n",
        "- 한 문장에서 점점 늘려가면서 실행해보기 !!"
      ],
      "metadata": {
        "id": "Q1BI_KjkQ8hu"
      }
    },
    {
      "cell_type": "markdown",
      "source": [
        "# EDA"
      ],
      "metadata": {
        "id": "1Wh3xmQtRAzf"
      }
    },
    {
      "cell_type": "markdown",
      "source": [
        "## 1) Pclass"
      ],
      "metadata": {
        "id": "bltVVCbCRK4j"
      }
    },
    {
      "cell_type": "markdown",
      "source": [
        "Pclass\n",
        "실제 사람 수는 3 class에서 가장 많은데, 생존확률을 봤을 때 Pclass가 높을수록 더 많이 생존했다."
      ],
      "metadata": {
        "id": "Hf6AlEahREUX"
      }
    },
    {
      "cell_type": "code",
      "source": [
        "df_train[['Pclass','Survived']].groupby(['Pclass'], as_index=True).count()"
      ],
      "metadata": {
        "id": "20jtSDGARP2M",
        "colab": {
          "base_uri": "https://localhost:8080/"
        },
        "outputId": "af0e48d9-c52c-4593-9e12-4c5890ba4a26"
      },
      "execution_count": null,
      "outputs": [
        {
          "output_type": "execute_result",
          "data": {
            "text/plain": [
              "        Survived\n",
              "Pclass          \n",
              "1            216\n",
              "2            184\n",
              "3            491"
            ],
            "text/html": [
              "\n",
              "  <div id=\"df-b13548cb-d270-4b42-a287-f62a9ebf7818\">\n",
              "    <div class=\"colab-df-container\">\n",
              "      <div>\n",
              "<style scoped>\n",
              "    .dataframe tbody tr th:only-of-type {\n",
              "        vertical-align: middle;\n",
              "    }\n",
              "\n",
              "    .dataframe tbody tr th {\n",
              "        vertical-align: top;\n",
              "    }\n",
              "\n",
              "    .dataframe thead th {\n",
              "        text-align: right;\n",
              "    }\n",
              "</style>\n",
              "<table border=\"1\" class=\"dataframe\">\n",
              "  <thead>\n",
              "    <tr style=\"text-align: right;\">\n",
              "      <th></th>\n",
              "      <th>Survived</th>\n",
              "    </tr>\n",
              "    <tr>\n",
              "      <th>Pclass</th>\n",
              "      <th></th>\n",
              "    </tr>\n",
              "  </thead>\n",
              "  <tbody>\n",
              "    <tr>\n",
              "      <th>1</th>\n",
              "      <td>216</td>\n",
              "    </tr>\n",
              "    <tr>\n",
              "      <th>2</th>\n",
              "      <td>184</td>\n",
              "    </tr>\n",
              "    <tr>\n",
              "      <th>3</th>\n",
              "      <td>491</td>\n",
              "    </tr>\n",
              "  </tbody>\n",
              "</table>\n",
              "</div>\n",
              "      <button class=\"colab-df-convert\" onclick=\"convertToInteractive('df-b13548cb-d270-4b42-a287-f62a9ebf7818')\"\n",
              "              title=\"Convert this dataframe to an interactive table.\"\n",
              "              style=\"display:none;\">\n",
              "        \n",
              "  <svg xmlns=\"http://www.w3.org/2000/svg\" height=\"24px\"viewBox=\"0 0 24 24\"\n",
              "       width=\"24px\">\n",
              "    <path d=\"M0 0h24v24H0V0z\" fill=\"none\"/>\n",
              "    <path d=\"M18.56 5.44l.94 2.06.94-2.06 2.06-.94-2.06-.94-.94-2.06-.94 2.06-2.06.94zm-11 1L8.5 8.5l.94-2.06 2.06-.94-2.06-.94L8.5 2.5l-.94 2.06-2.06.94zm10 10l.94 2.06.94-2.06 2.06-.94-2.06-.94-.94-2.06-.94 2.06-2.06.94z\"/><path d=\"M17.41 7.96l-1.37-1.37c-.4-.4-.92-.59-1.43-.59-.52 0-1.04.2-1.43.59L10.3 9.45l-7.72 7.72c-.78.78-.78 2.05 0 2.83L4 21.41c.39.39.9.59 1.41.59.51 0 1.02-.2 1.41-.59l7.78-7.78 2.81-2.81c.8-.78.8-2.07 0-2.86zM5.41 20L4 18.59l7.72-7.72 1.47 1.35L5.41 20z\"/>\n",
              "  </svg>\n",
              "      </button>\n",
              "      \n",
              "  <style>\n",
              "    .colab-df-container {\n",
              "      display:flex;\n",
              "      flex-wrap:wrap;\n",
              "      gap: 12px;\n",
              "    }\n",
              "\n",
              "    .colab-df-convert {\n",
              "      background-color: #E8F0FE;\n",
              "      border: none;\n",
              "      border-radius: 50%;\n",
              "      cursor: pointer;\n",
              "      display: none;\n",
              "      fill: #1967D2;\n",
              "      height: 32px;\n",
              "      padding: 0 0 0 0;\n",
              "      width: 32px;\n",
              "    }\n",
              "\n",
              "    .colab-df-convert:hover {\n",
              "      background-color: #E2EBFA;\n",
              "      box-shadow: 0px 1px 2px rgba(60, 64, 67, 0.3), 0px 1px 3px 1px rgba(60, 64, 67, 0.15);\n",
              "      fill: #174EA6;\n",
              "    }\n",
              "\n",
              "    [theme=dark] .colab-df-convert {\n",
              "      background-color: #3B4455;\n",
              "      fill: #D2E3FC;\n",
              "    }\n",
              "\n",
              "    [theme=dark] .colab-df-convert:hover {\n",
              "      background-color: #434B5C;\n",
              "      box-shadow: 0px 1px 3px 1px rgba(0, 0, 0, 0.15);\n",
              "      filter: drop-shadow(0px 1px 2px rgba(0, 0, 0, 0.3));\n",
              "      fill: #FFFFFF;\n",
              "    }\n",
              "  </style>\n",
              "\n",
              "      <script>\n",
              "        const buttonEl =\n",
              "          document.querySelector('#df-b13548cb-d270-4b42-a287-f62a9ebf7818 button.colab-df-convert');\n",
              "        buttonEl.style.display =\n",
              "          google.colab.kernel.accessAllowed ? 'block' : 'none';\n",
              "\n",
              "        async function convertToInteractive(key) {\n",
              "          const element = document.querySelector('#df-b13548cb-d270-4b42-a287-f62a9ebf7818');\n",
              "          const dataTable =\n",
              "            await google.colab.kernel.invokeFunction('convertToInteractive',\n",
              "                                                     [key], {});\n",
              "          if (!dataTable) return;\n",
              "\n",
              "          const docLinkHtml = 'Like what you see? Visit the ' +\n",
              "            '<a target=\"_blank\" href=https://colab.research.google.com/notebooks/data_table.ipynb>data table notebook</a>'\n",
              "            + ' to learn more about interactive tables.';\n",
              "          element.innerHTML = '';\n",
              "          dataTable['output_type'] = 'display_data';\n",
              "          await google.colab.output.renderOutput(dataTable, element);\n",
              "          const docLink = document.createElement('div');\n",
              "          docLink.innerHTML = docLinkHtml;\n",
              "          element.appendChild(docLink);\n",
              "        }\n",
              "      </script>\n",
              "    </div>\n",
              "  </div>\n",
              "  "
            ]
          },
          "metadata": {},
          "execution_count": 25
        }
      ]
    },
    {
      "cell_type": "code",
      "source": [
        "# df_train[['Pclass','Survived']].groupby(['Pclass']).sum()"
      ],
      "metadata": {
        "id": "Xh1IZo-aRQ2e"
      },
      "execution_count": null,
      "outputs": []
    },
    {
      "cell_type": "code",
      "source": [
        "# pd.crosstab(df_train['Pclass'],df_train['Survived'],margins=True).style.background_gradient(cmap='GnBu')"
      ],
      "metadata": {
        "id": "PsxAwpscRSRU"
      },
      "execution_count": null,
      "outputs": []
    },
    {
      "cell_type": "code",
      "source": [
        "# 생존여부가 0,1의 binary로 이루어져있으므로 \n",
        "# Pclass별로 groupby한 후 Survived의 mean을 구하면 -> '생존률'을 의미하게 된다\n",
        "df_train[['Pclass','Survived']].groupby(['Pclass'],as_index=True).mean().sort_values(by='Survived', ascending=False)"
      ],
      "metadata": {
        "id": "Ivu8h8y7RU1V",
        "colab": {
          "base_uri": "https://localhost:8080/"
        },
        "outputId": "18661f53-0049-41c5-d029-08a3ac9b94e0"
      },
      "execution_count": null,
      "outputs": [
        {
          "output_type": "execute_result",
          "data": {
            "text/plain": [
              "        Survived\n",
              "Pclass          \n",
              "1       0.629630\n",
              "2       0.472826\n",
              "3       0.242363"
            ],
            "text/html": [
              "\n",
              "  <div id=\"df-b52d4293-0692-406e-9aca-509bf934278b\">\n",
              "    <div class=\"colab-df-container\">\n",
              "      <div>\n",
              "<style scoped>\n",
              "    .dataframe tbody tr th:only-of-type {\n",
              "        vertical-align: middle;\n",
              "    }\n",
              "\n",
              "    .dataframe tbody tr th {\n",
              "        vertical-align: top;\n",
              "    }\n",
              "\n",
              "    .dataframe thead th {\n",
              "        text-align: right;\n",
              "    }\n",
              "</style>\n",
              "<table border=\"1\" class=\"dataframe\">\n",
              "  <thead>\n",
              "    <tr style=\"text-align: right;\">\n",
              "      <th></th>\n",
              "      <th>Survived</th>\n",
              "    </tr>\n",
              "    <tr>\n",
              "      <th>Pclass</th>\n",
              "      <th></th>\n",
              "    </tr>\n",
              "  </thead>\n",
              "  <tbody>\n",
              "    <tr>\n",
              "      <th>1</th>\n",
              "      <td>0.629630</td>\n",
              "    </tr>\n",
              "    <tr>\n",
              "      <th>2</th>\n",
              "      <td>0.472826</td>\n",
              "    </tr>\n",
              "    <tr>\n",
              "      <th>3</th>\n",
              "      <td>0.242363</td>\n",
              "    </tr>\n",
              "  </tbody>\n",
              "</table>\n",
              "</div>\n",
              "      <button class=\"colab-df-convert\" onclick=\"convertToInteractive('df-b52d4293-0692-406e-9aca-509bf934278b')\"\n",
              "              title=\"Convert this dataframe to an interactive table.\"\n",
              "              style=\"display:none;\">\n",
              "        \n",
              "  <svg xmlns=\"http://www.w3.org/2000/svg\" height=\"24px\"viewBox=\"0 0 24 24\"\n",
              "       width=\"24px\">\n",
              "    <path d=\"M0 0h24v24H0V0z\" fill=\"none\"/>\n",
              "    <path d=\"M18.56 5.44l.94 2.06.94-2.06 2.06-.94-2.06-.94-.94-2.06-.94 2.06-2.06.94zm-11 1L8.5 8.5l.94-2.06 2.06-.94-2.06-.94L8.5 2.5l-.94 2.06-2.06.94zm10 10l.94 2.06.94-2.06 2.06-.94-2.06-.94-.94-2.06-.94 2.06-2.06.94z\"/><path d=\"M17.41 7.96l-1.37-1.37c-.4-.4-.92-.59-1.43-.59-.52 0-1.04.2-1.43.59L10.3 9.45l-7.72 7.72c-.78.78-.78 2.05 0 2.83L4 21.41c.39.39.9.59 1.41.59.51 0 1.02-.2 1.41-.59l7.78-7.78 2.81-2.81c.8-.78.8-2.07 0-2.86zM5.41 20L4 18.59l7.72-7.72 1.47 1.35L5.41 20z\"/>\n",
              "  </svg>\n",
              "      </button>\n",
              "      \n",
              "  <style>\n",
              "    .colab-df-container {\n",
              "      display:flex;\n",
              "      flex-wrap:wrap;\n",
              "      gap: 12px;\n",
              "    }\n",
              "\n",
              "    .colab-df-convert {\n",
              "      background-color: #E8F0FE;\n",
              "      border: none;\n",
              "      border-radius: 50%;\n",
              "      cursor: pointer;\n",
              "      display: none;\n",
              "      fill: #1967D2;\n",
              "      height: 32px;\n",
              "      padding: 0 0 0 0;\n",
              "      width: 32px;\n",
              "    }\n",
              "\n",
              "    .colab-df-convert:hover {\n",
              "      background-color: #E2EBFA;\n",
              "      box-shadow: 0px 1px 2px rgba(60, 64, 67, 0.3), 0px 1px 3px 1px rgba(60, 64, 67, 0.15);\n",
              "      fill: #174EA6;\n",
              "    }\n",
              "\n",
              "    [theme=dark] .colab-df-convert {\n",
              "      background-color: #3B4455;\n",
              "      fill: #D2E3FC;\n",
              "    }\n",
              "\n",
              "    [theme=dark] .colab-df-convert:hover {\n",
              "      background-color: #434B5C;\n",
              "      box-shadow: 0px 1px 3px 1px rgba(0, 0, 0, 0.15);\n",
              "      filter: drop-shadow(0px 1px 2px rgba(0, 0, 0, 0.3));\n",
              "      fill: #FFFFFF;\n",
              "    }\n",
              "  </style>\n",
              "\n",
              "      <script>\n",
              "        const buttonEl =\n",
              "          document.querySelector('#df-b52d4293-0692-406e-9aca-509bf934278b button.colab-df-convert');\n",
              "        buttonEl.style.display =\n",
              "          google.colab.kernel.accessAllowed ? 'block' : 'none';\n",
              "\n",
              "        async function convertToInteractive(key) {\n",
              "          const element = document.querySelector('#df-b52d4293-0692-406e-9aca-509bf934278b');\n",
              "          const dataTable =\n",
              "            await google.colab.kernel.invokeFunction('convertToInteractive',\n",
              "                                                     [key], {});\n",
              "          if (!dataTable) return;\n",
              "\n",
              "          const docLinkHtml = 'Like what you see? Visit the ' +\n",
              "            '<a target=\"_blank\" href=https://colab.research.google.com/notebooks/data_table.ipynb>data table notebook</a>'\n",
              "            + ' to learn more about interactive tables.';\n",
              "          element.innerHTML = '';\n",
              "          dataTable['output_type'] = 'display_data';\n",
              "          await google.colab.output.renderOutput(dataTable, element);\n",
              "          const docLink = document.createElement('div');\n",
              "          docLink.innerHTML = docLinkHtml;\n",
              "          element.appendChild(docLink);\n",
              "        }\n",
              "      </script>\n",
              "    </div>\n",
              "  </div>\n",
              "  "
            ]
          },
          "metadata": {},
          "execution_count": 28
        }
      ]
    },
    {
      "cell_type": "markdown",
      "source": [
        "asindex를 True로 놓지 않으면, 카테고리도 index가 아닌 항목으로 들어가서 그래프가 잘못 그려지게 된다"
      ],
      "metadata": {
        "id": "h2a_3g7TRW4m"
      }
    },
    {
      "cell_type": "code",
      "source": [
        "# df_train[['Pclass','Survived']].groupby(['Pclass'],as_index=True).mean().sort_values(by='Survived', ascending=False).plot()"
      ],
      "metadata": {
        "id": "hrlcik4zRZqX"
      },
      "execution_count": null,
      "outputs": []
    },
    {
      "cell_type": "code",
      "source": [
        "# df_train[['Pclass','Survived']].groupby(['Pclass'],as_index=False).mean().sort_values(by='Survived', ascending=False).plot()"
      ],
      "metadata": {
        "id": "SC2XnPfSRarZ"
      },
      "execution_count": null,
      "outputs": []
    },
    {
      "cell_type": "code",
      "source": [
        "df_train[['Pclass','Survived']].groupby(['Pclass'],as_index=True).mean().sort_values(by='Survived', ascending=False).plot.bar()"
      ],
      "metadata": {
        "id": "Zn9KugEeRb8x",
        "colab": {
          "base_uri": "https://localhost:8080/"
        },
        "outputId": "9095c7fa-e065-412b-f0bd-a498ba291f8a"
      },
      "execution_count": null,
      "outputs": [
        {
          "output_type": "execute_result",
          "data": {
            "text/plain": [
              "<matplotlib.axes._subplots.AxesSubplot at 0x7fdca2b8a1d0>"
            ]
          },
          "metadata": {},
          "execution_count": 31
        },
        {
          "output_type": "display_data",
          "data": {
            "text/plain": [
              "<Figure size 432x288 with 1 Axes>"
            ],
            "image/png": "[encoded data removed]"
          },
          "metadata": {
            "needs_background": "light"
          }
        }
      ]
    },
    {
      "cell_type": "code",
      "source": [
        "y_position = 1.02\n",
        "f, ax = plt.subplots(1,2, figsize=(18,8))\n",
        "df_train['Pclass'].value_counts().plot.bar(color=['#CD7F32','#FFDF00','#D3D3D3'],ax=ax[0])\n",
        "ax[0].set_title('Number of passengers By Pclass', y=y_position)\n",
        "ax[0].set_ylabel('Count')\n",
        "sns.countplot('Pclass',hue='Survived',data=df_train,ax=ax[1])\n",
        "ax[1].set_title('Pclass: Survived vs Dead')\n",
        "plt.show()"
      ],
      "metadata": {
        "id": "2EaCfNZJRdpk",
        "colab": {
          "base_uri": "https://localhost:8080/"
        },
        "outputId": "1b1d3406-8fd5-4b12-bd72-001dd5730175"
      },
      "execution_count": null,
      "outputs": [
        {
          "output_type": "display_data",
          "data": {
            "text/plain": [
              "<Figure size 1296x576 with 2 Axes>"
            ],
            "image/png": "[encoded data removed]"
          },
          "metadata": {
            "needs_background": "light"
          }
        }
      ]
    },
    {
      "cell_type": "markdown",
      "source": [
        "## 2) Sex를 기준으로"
      ],
      "metadata": {
        "id": "p03oIFP-Rfp5"
      }
    },
    {
      "cell_type": "code",
      "source": [
        "f, ax = plt.subplots(1,2,figsize=(18,8))\n",
        "df_train[['Sex','Survived']].groupby(['Sex'],as_index=True).mean().plot.bar(ax=ax[0])\n",
        "ax[0].set_title('Survived vs Sex')\n",
        "sns.countplot('Sex',hue='Survived',data=df_train, ax=ax[1])\n",
        "ax[1].set_title('Sex: Survived vs Dead')\n",
        "plt.show()"
      ],
      "metadata": {
        "id": "E3OIVTIyRj2X"
      },
      "execution_count": null,
      "outputs": []
    },
    {
      "cell_type": "markdown",
      "source": [
        "countplot (어떤 column으로 카운트하고, 무엇으로 색을 나누고, 무슨 데이터를 이용하고, 어디에 그릴지)"
      ],
      "metadata": {
        "id": "musCqGqmRnap"
      }
    },
    {
      "cell_type": "code",
      "source": [
        "pd.crosstab(df_train['Sex'],df_train['Survived'], margins=True).style.background_gradient(cmap='summer_r')"
      ],
      "metadata": {
        "id": "zwO6YBwhRp0h"
      },
      "execution_count": null,
      "outputs": []
    },
    {
      "cell_type": "markdown",
      "source": [
        "## 3) Both Sex and Pclass"
      ],
      "metadata": {
        "id": "Sk90-zpDRuae"
      }
    },
    {
      "cell_type": "markdown",
      "source": [
        "- 두 기준(Sex, Pclass)과 survived를 표현하는 3-dimension으로 표현해보자\n",
        "- seaborn의 factorplot을 이용!"
      ],
      "metadata": {
        "id": "xCC9ppuCRyAX"
      }
    },
    {
      "cell_type": "code",
      "source": [
        "sns.factorplot('Pclass','Survived',hue='Sex',data=df_train, size=6, aspect=1.5)"
      ],
      "metadata": {
        "id": "LwKCNNpSR1d8"
      },
      "execution_count": null,
      "outputs": []
    },
    {
      "cell_type": "markdown",
      "source": [
        "- Lady first,\n",
        "- Money brings survival?"
      ],
      "metadata": {
        "id": "KQz7_ssuR3kh"
      }
    },
    {
      "cell_type": "code",
      "source": [
        "sns.factorplot(x='Sex',y='Survived',hue='Pclass',data=df_train, saturation=5, size=9, aspect=1)"
      ],
      "metadata": {
        "id": "GGlGrZBrR5xd"
      },
      "execution_count": null,
      "outputs": []
    },
    {
      "cell_type": "markdown",
      "source": [
        "## 4) Age"
      ],
      "metadata": {
        "id": "P8t9JCwWR9Mh"
      }
    },
    {
      "cell_type": "code",
      "source": [
        "print('제일 나이 많은 탑승객: {:.1f}years'.format(df_train['Age'].max()))\n",
        "print('제일 나이 어린 탑승객: {:.1f}years'.format(df_train['Age'].min()))\n",
        "print('탑승객 평균 나이:{:.1f}years'.format(df_train['Age'].mean()))"
      ],
      "metadata": {
        "id": "FPcT5ipXSBGc"
      },
      "execution_count": null,
      "outputs": []
    },
    {
      "cell_type": "code",
      "source": [
        "fig, ax = plt.subplots(1,1,figsize=(9,5))\n",
        "sns.kdeplot(df_train[df_train['Survived']==1]['Age'], ax=ax)\n",
        "sns.kdeplot(df_train[df_train['Survived']==0]['Age'],ax=ax)\n",
        "plt.legend(['Survived==1','Survived==0'])\n",
        "plt.show()"
      ],
      "metadata": {
        "id": "CphiquWqSFGO"
      },
      "execution_count": null,
      "outputs": []
    },
    {
      "cell_type": "code",
      "source": [
        "# Survived==1인 사람들에 대한 나이 별 분포 히스토그램 그려보면\n",
        "# df_train[df_train['Survived']==1]['Age'].hist()"
      ],
      "metadata": {
        "id": "SyG7vQd_SJB0"
      },
      "execution_count": null,
      "outputs": []
    },
    {
      "cell_type": "code",
      "source": [
        "# hist로 하면 kde로 할때보다 안보임!! 해보자 \n",
        "plt.figure(figsize=(8,6))\n",
        "df_train['Age'][df_train['Pclass']==1].plot(kind='kde')\n",
        "df_train['Age'][df_train['Pclass']==2].plot(kind='kde')\n",
        "df_train['Age'][df_train['Pclass']==3].plot(kind='kde')\n",
        "\n",
        "plt.xlabel('Age')\n",
        "plt.title('Age Distribution within classes')\n",
        "plt.legend(['1st Class','2nd Class','3rd Class'])"
      ],
      "metadata": {
        "id": "TX92Oe_tSKvb"
      },
      "execution_count": null,
      "outputs": []
    },
    {
      "cell_type": "code",
      "source": [
        "# Pclass별 생존률 나이별로 보는 법은?\n",
        "\n",
        "fig, ax = plt.subplots(1,1,figsize=(9,5))\n",
        "sns.kdeplot(df_train[(df_train['Survived']==0)&(df_train['Pclass']==1)]['Age'], ax=ax)\n",
        "sns.kdeplot(df_train[(df_train['Survived']==1)&(df_train['Pclass']==1)]['Age'], ax=ax)\n",
        "\n",
        "plt.title('1st Class')\n",
        "plt.legend(['Survived == 0' ,'Survived ==1'])\n",
        "plt.show()"
      ],
      "metadata": {
        "id": "R1PYek3vSMwX"
      },
      "execution_count": null,
      "outputs": []
    },
    {
      "cell_type": "markdown",
      "source": [
        "### What is 'kdeplot'?"
      ],
      "metadata": {
        "id": "AYm3oim8SOuN"
      }
    },
    {
      "cell_type": "markdown",
      "source": [
        "(출처 [https://darkpgmr.tistory.com/147])\n",
        "- **kernel density estimator 커널 밀도 추정**\n",
        "- 히스토그램 같은 분포를 부드럽게 곡선화, smoothing 시켜서 보여줌 \n",
        "- 커널 함수를 이용한 밀도추정 방법의 하나로서, KDE를 알기 위해서는 먼저 밀도추정이 무엇인지 알아야 한다.\n",
        "    - 밀도추정 density estimation\n",
        "        - 단일 데이터를 관찰해서는 해당 변수가 가지고 있는 특성에 대해 설명할 수 없다. 관측된 데이터(변수들)의 분포로부터 원래 변수의 확률 분포 특성을 추정하고자 하는 것이 density estimation 이다. 변수들의 분포 특성을 통해 그 변수가 가질수 있는 값과 그 값을 가질 수 있는 가능성의 정도를 추정한다. \n",
        "        - 즉, 밀도 추정에서 말하는 밀도는, '확률 밀도'이다. 어떤 변수 x의 density를 추정하는 것은 x의 확률밀도함수(probability density function = pdf)를 추정하는 것과 같은 말이다. \n",
        "        - f(a) = x=a에서의 확률밀도 = 변수 x가 a라는 값을 가질 상대적인 가능성\n",
        "        - x가 a~b 사이의 값을 가질 확률은 그 구간에서의 확률밀도 함수의 적분값(면적)\n",
        "        - 밀도 추정의 두가지 방식\n",
        "            1. parametic 밀도추정\n",
        "                - 미리 pdf 모델을 정해놓고 데이터들로부터 모델의 파라미터만 추정한다.\n",
        "                - ex. 일일교통량이 정규분포를 따른다고 가정하고, 관측 데이터로부터 평균과 분산만 구하기\n",
        "            2. Non-parametic 밀도추정\n",
        "                - 현실에서는 분포의 모델을 미리 아는 일은 잘 없고, 순수하게 관측된 데이터만으로 확률밀도함수를 추정해야한다. \n",
        "                - 가장 간단한 형태 : histogram -> 관측된 데이터들로부터 히스토그램을 구한 후 구해진 히스토그램을 정규화하여 확률밀도함수로 사용한다. \n",
        "                -> 그러나 히스토그램은 불연속성 등의 문제점을 갖는다. 따라서 KDE 방법은, non-parametric 밀도추정 방법 중 하나로서, 커널 함수를 이용하여 이러한 문제점을 개선한다. \n",
        "    - 커널함수\n",
        "        - 원점을 중심으로 대칭이면서 적분값이 1인 non-negative 함수\n",
        "        - 커널 함수의 bandwidth에 따라 높낮이가 달라진다.\n",
        "- kde는 각 데이터를 이산적인 값으로 더해 히스토그램을 만드는 대신, 각 데이터를 중심으로 하는 커널 함수로 대치하여 더하고 평균낸다\n",
        "- 즉, KDE를 통해 얻은 확률 밀도 함수는 히스토그램 확률 밀도 함수를 smoothing한 것으로도 볼 수 있으며, 이 때 smoothing 정도는 어떤 bandwidth 값의 커널 함수를 사용했느냐에 따라 달라진다. \n",
        "- 따라서, KDE를 사용할 때 중요한 것\n",
        "    1) 어떤 커널 함수를 사용할 것인가\n",
        "    2) 커널함수의 bandwidth 파라미터인 h값을 어떻게 잡을 것인가"
      ],
      "metadata": {
        "id": "p6q3kK2OSUn-"
      }
    },
    {
      "cell_type": "markdown",
      "source": [
        "### padnas에서 indexing하는 다양한 방법들"
      ],
      "metadata": {
        "id": "EC32inyuSYhd"
      }
    },
    {
      "cell_type": "code",
      "source": [
        "# df_train.iloc[1:10,2:5]"
      ],
      "metadata": {
        "id": "GbTU7xgLSeuE"
      },
      "execution_count": null,
      "outputs": []
    },
    {
      "cell_type": "code",
      "source": [
        "# df_train['Survived']==1\n",
        "# 이렇게 불리언 값을 이용해서 인덱싱 많이 함 !! \n",
        "# df_train[df_train['Survived']==1]"
      ],
      "metadata": {
        "id": "w2nQDN_xSgLE"
      },
      "execution_count": null,
      "outputs": []
    },
    {
      "cell_type": "code",
      "source": [
        "#for row in df_train.iterrows():\n",
        "#    break\n",
        "# row"
      ],
      "metadata": {
        "id": "VQEN3Fo_Shpn"
      },
      "execution_count": null,
      "outputs": []
    },
    {
      "cell_type": "markdown",
      "source": [
        "### 도화지 펴는 방식 여러가지가 있다. "
      ],
      "metadata": {
        "id": "zZGyg_w4Slyp"
      }
    },
    {
      "cell_type": "markdown",
      "source": [
        "1. f = plt.figure(figsize=(10,10))"
      ],
      "metadata": {
        "id": "e7T-FHbaStpy"
      }
    },
    {
      "cell_type": "code",
      "source": [
        "'''\n",
        "f = plt.figure(figsize = (5,5))\n",
        "a = np.arange(100)\n",
        "b = np.sin(a)\n",
        "\n",
        "plt.xlabel('x') # plt로 그릴때는 set 안붙음\n",
        "\n",
        "plt.plot(b) # 도화지만 펴서 바로 도화지에 그린다. \n",
        "'''"
      ],
      "metadata": {
        "id": "zAT7JAprSwRV"
      },
      "execution_count": null,
      "outputs": []
    },
    {
      "cell_type": "markdown",
      "source": [
        "2. f, ax = plt.subplots(1,1,figsize=(10,10))"
      ],
      "metadata": {
        "id": "yJ7KHtnLSzAK"
      }
    },
    {
      "cell_type": "code",
      "source": [
        "'''\n",
        "f, ax = plt.subplots(1,1,figsize=(5,5))\n",
        "a = np.arange(100)\n",
        "b = np.sin(a)\n",
        "\n",
        "ax.set_xlabel('x')  # ax로 그릴 때는 set이 붙는다 !\n",
        "\n",
        "ax.plot(b) # 축을 반환해주므로 축으로 그린다. \n",
        "'''"
      ],
      "metadata": {
        "id": "jJxnJ9HyS0qj"
      },
      "execution_count": null,
      "outputs": []
    },
    {
      "cell_type": "markdown",
      "source": [
        "3. plt.figure(figsize=(10,10))"
      ],
      "metadata": {
        "id": "MIVT7HUIS2wc"
      }
    },
    {
      "cell_type": "code",
      "source": [
        "'''\n",
        "plt.figure(figsize=(5,5))\n",
        "a = np.arange(100)\n",
        "b = np.sin(a)\n",
        "\n",
        "plt.plot(b)    # ax,fig 아무것도 반환 안하므로 plt에 바로 그린다. \n",
        "'''"
      ],
      "metadata": {
        "id": "gkOSrWSTS4jh"
      },
      "execution_count": null,
      "outputs": []
    },
    {
      "cell_type": "markdown",
      "source": [
        "## 5) Pclass, Sex, Age"
      ],
      "metadata": {
        "id": "yeX9X9FBTbfT"
      }
    },
    {
      "cell_type": "code",
      "source": [
        "f, ax = plt.subplots(1,2,figsize=(18,8))\n",
        "sns.violinplot(\"Pclass\",'Age',hue='Survived', data = df_train, scale='count', split=True, ax=ax[0])\n",
        "ax[0].set_title('Pclass and Age vs Survived')\n",
        "ax[0].set_yticks(range(0,110,10))\n",
        "sns.violinplot('Sex','Age',hue='Survived',data=df_train,scale='count',split=True,ax=ax[1])\n",
        "ax[1].set_title('Sex and Age vs Survived')\n",
        "ax[1].set_yticks(range(0,110,10))\n",
        "plt.show()"
      ],
      "metadata": {
        "id": "xzNednf_aODI"
      },
      "execution_count": null,
      "outputs": []
    },
    {
      "cell_type": "markdown",
      "source": [
        "- 이런 형태로 출력해주는 것이 violin (split을 False로 해보면 violin모양이 보인다)\n",
        "- scale 어떤 속성 넣느냐에 따라 그림 표현 조금씩 달라지는데, seaborn violinplot 검색해서 문서 확인해보고, 실제로 속성 값 바꿔가면서 실습해보며 익히기 !\n",
        "- ex) area: 양 쪽 모두 같은 넓이로 표현하여 분포를 더 강조한다 !"
      ],
      "metadata": {
        "id": "6rUrjBHqdFZb"
      }
    },
    {
      "cell_type": "markdown",
      "source": [
        "## 6) Embarked"
      ],
      "metadata": {
        "id": "jBVGxTuohzOp"
      }
    },
    {
      "cell_type": "markdown",
      "source": [
        "- 탑승한 항구"
      ],
      "metadata": {
        "id": "HBkxgsflh5I-"
      }
    },
    {
      "cell_type": "code",
      "source": [
        "f, ax = plt.subplots(1,1,figsize=(6,6))\n",
        "df_train[['Embarked','Survived']].groupby(['Embarked'],as_index=True).mean().sort_values(by='Survived',ascending=False).plot.bar(ax=ax)\n",
        "# sort_values, sort_index"
      ],
      "metadata": {
        "id": "WzXYZJaLd0Qp"
      },
      "execution_count": null,
      "outputs": []
    },
    {
      "cell_type": "code",
      "source": [
        "f, ax = plt.subplots(2,2,figsize=(20,15))\n",
        "\n",
        "sns.countplot('Embarked',data=df_train,ax=ax[0,0])\n",
        "ax[0,0].set_title('(1) No. Of Passengers Boarded')\n",
        "\n",
        "sns.countplot('Embarked',hue='Sex',data=df_train,ax=ax[0,1])\n",
        "ax[0,1].set_title('(2) Male-Female Split for Embarked')\n",
        "\n",
        "sns.countplot('Embarked',hue='Survived',data=df_train,ax=ax[1,0])\n",
        "ax[1,0].set_title('(3) Embarked vs Survived')\n",
        "\n",
        "sns.countplot('Embarked',hue='Pclass',data=df_train,ax=ax[1,1])\n",
        "ax[1,1].set_title('(4) Embarked vs Pclass')\n",
        "\n",
        "plt.subplots_adjust(wspace=0.2, hspace=0.5) # 각 그림 간의 간격\n",
        "plt.show()"
      ],
      "metadata": {
        "id": "iOOrpKVaigfO"
      },
      "execution_count": null,
      "outputs": []
    },
    {
      "cell_type": "markdown",
      "source": [
        "## 7) Family <- SibSp(형제자매) + Parch(배우자)"
      ],
      "metadata": {
        "id": "N_lxfkHSnmh3"
      }
    },
    {
      "cell_type": "code",
      "source": [
        "# Pandas Series끼리는 더하고 빼는 것(사칙연산)이 가능하다\n",
        "df_train['FamilySize'] = df_train['SibSp'] + df_train['Parch'] +1 # 자기 자신도 가족의 수로 count되야 하니까 1을 더해준다 !"
      ],
      "metadata": {
        "id": "qvot30_qw6aO"
      },
      "execution_count": null,
      "outputs": []
    },
    {
      "cell_type": "code",
      "source": [
        "print('Maximum size of Family:',df_train['FamilySize'].max())\n",
        "print('Minimum size of Family:',df_train['FamilySize'].min())"
      ],
      "metadata": {
        "colab": {
          "base_uri": "https://localhost:8080/"
        },
        "id": "XU_saCMoxHtA",
        "outputId": "38de37f7-e709-45c3-aac2-bd66b920e366"
      },
      "execution_count": null,
      "outputs": [
        {
          "output_type": "stream",
          "name": "stdout",
          "text": [
            "Maximum size of Family: 11\n",
            "Minimum size of Family: 1\n"
          ]
        }
      ]
    },
    {
      "cell_type": "code",
      "source": [
        "f,ax =  plt.subplots(1,3,figsize=(40,10))\n",
        "sns.countplot('FamilySize',data=df_train,ax=ax[0])\n",
        "ax[0].set_title('(1) No. Of Passengers Boarded', y=1.02)\n",
        "\n",
        "sns.countplot('FamilySize',hue='Survived',data=df_train,ax=ax[1])\n",
        "ax[1].set_title('(2) Survived countplot depending on FamilySize', y=1.02)\n",
        "\n",
        "df_train[['FamilySize','Survived']].groupby(['FamilySize'], as_index=True).mean().sort_values(by='Survived',ascending=False).plot.bar(ax=ax[2])"
      ],
      "metadata": {
        "colab": {
          "base_uri": "https://localhost:8080/"
        },
        "id": "TE11fokHxKh5",
        "outputId": "816a8b3e-7838-4971-de3e-0206f5c3364d"
      },
      "execution_count": null,
      "outputs": [
        {
          "output_type": "execute_result",
          "data": {
            "text/plain": [
              "<matplotlib.axes._subplots.AxesSubplot at 0x7fdc9fce0c50>"
            ]
          },
          "metadata": {},
          "execution_count": 71
        },
        {
          "output_type": "display_data",
          "data": {
            "text/plain": [
              "<Figure size 2880x720 with 3 Axes>"
            ],
            "image/png": "[encoded data removed]"
          },
          "metadata": {
            "needs_background": "light"
          }
        }
      ]
    },
    {
      "cell_type": "markdown",
      "source": [
        "- 가족 수가 너무 작아도(1), 너무 커도(5,6,8,11) 생존 확률이 작다.\n",
        "- 3~4명 선에서 생존 확률이 높다 !"
      ],
      "metadata": {
        "id": "sOp3nY4Y3R6P"
      }
    },
    {
      "cell_type": "markdown",
      "source": [
        "## 8) Fare 탑승요금"
      ],
      "metadata": {
        "id": "Y0OZinSE3wLn"
      }
    },
    {
      "cell_type": "markdown",
      "source": [
        "- continuous feature"
      ],
      "metadata": {
        "id": "tXTBRRL730sc"
      }
    },
    {
      "cell_type": "code",
      "source": [
        "fig, ax = plt.subplots(1,1,figsize=(8,8))\n",
        "\n",
        "# distplot: Series 받으면 Series의 히스토그램 그려주는 plot\n",
        "g = sns.distplot(df_train['Fare'],color='b',label='Skewness: {:.2f}'.format(df_train['Fare'].skew()),ax=ax)\n",
        "g = g.legend(loc='best')\n"
      ],
      "metadata": {
        "colab": {
          "base_uri": "https://localhost:8080/",
          "height": 540
        },
        "id": "fsFwjvQpy37F",
        "outputId": "efc020f5-3454-44e4-ab62-394d92e4324a"
      },
      "execution_count": null,
      "outputs": [
        {
          "output_type": "display_data",
          "data": {
            "text/plain": [
              "<Figure size 576x576 with 1 Axes>"
            ],
            "image/png": "[encoded data removed]"
          },
          "metadata": {
            "needs_background": "light"
          }
        }
      ]
    },
    {
      "cell_type": "markdown",
      "source": [
        "- 매우 비대칭임. high skewness\n",
        "- 이대로 모델에 넣는다면 모델이 잘못 학습할 수가 있다\n",
        "- 몇 개 없는 outlier에 대해 너무 민감하게 반응한다면, 실제 예측 시 좋지 못한 결과를 부를 수 있다. \n",
        "- outlier 영향 줄이기 위해 Fare에 log 취해보자\n"
      ],
      "metadata": {
        "id": "b2RiAehA72pj"
      }
    },
    {
      "cell_type": "code",
      "source": [
        "df_test.loc[df_test.Fare.isnull(),'Fare'] = df_test['Fare'].mean()  # testset에 있는 nan value를 평균값으로 치환\n",
        "\n",
        "df_train['Fare'] = df_train['Fare'].map(lambda i:np.log(i) if i>0 else 0) # 들어오는 값이 0보다 크면 로그값 취해서 매핑, 그렇지 않으면 0\n",
        "# 특정 시리즈 value들에 동일한 operation 적용하고 싶을 때는 map(lambda같은 간단한 식넣어주기), apply(함수넣어주기) 사용하고, 뒤에 함수를 넣어주면된다."
      ],
      "metadata": {
        "id": "i0v33U2L8wh_"
      },
      "execution_count": null,
      "outputs": []
    },
    {
      "cell_type": "code",
      "source": [
        "fig, ax = plt.subplots(1,1,figsize=(8,8))\n",
        "g = sns.distplot(df_train['Fare'],color='b',label='Skewness:{:.2f}'.format(df_train['Fare'].skew()),ax=ax)\n",
        "g = g.legend(loc='best')\n",
        "\n",
        "# g는 matplot library 받는 객체?임"
      ],
      "metadata": {
        "colab": {
          "base_uri": "https://localhost:8080/",
          "height": 540
        },
        "id": "4_vOC7d24UTn",
        "outputId": "718e81da-a16e-42df-9a7c-84a049eaea74"
      },
      "execution_count": null,
      "outputs": [
        {
          "output_type": "display_data",
          "data": {
            "text/plain": [
              "<Figure size 576x576 with 1 Axes>"
            ],
            "image/png": "[encoded data removed]"
          },
          "metadata": {
            "needs_background": "light"
          }
        }
      ]
    },
    {
      "cell_type": "markdown",
      "source": [
        "-> 이 과정도 사실은 feature engineering에 들어간다"
      ],
      "metadata": {
        "id": "66_8zGw8STGX"
      }
    },
    {
      "cell_type": "markdown",
      "source": [
        "## 9) Cabin"
      ],
      "metadata": {
        "id": "8HQ5bk3O_21H"
      }
    },
    {
      "cell_type": "code",
      "source": [
        "df_train['Cabin']"
      ],
      "metadata": {
        "id": "SgEOmo-2ANP4"
      },
      "execution_count": null,
      "outputs": []
    },
    {
      "cell_type": "markdown",
      "source": [
        "- null data가 80%나 되기 때문에 일단은 모델에서 빼자"
      ],
      "metadata": {
        "id": "FSbs99OX_rsN"
      }
    },
    {
      "cell_type": "markdown",
      "source": [
        "## 10) Ticket"
      ],
      "metadata": {
        "id": "faiLrgVyAY7o"
      }
    },
    {
      "cell_type": "markdown",
      "source": [
        "- feature engineering 통해서 새로운 요소 뽑아낼 수 있겠으나, 아이디어 좀 더 필요하기 때문에 일단은 빼자!\n",
        "- 나중에 완성 후 성능 조금 더 높이고 싶을 때 이 ticket에서 정보를 빼내보자!!"
      ],
      "metadata": {
        "id": "cqB3v86zA5du"
      }
    },
    {
      "cell_type": "code",
      "source": [
        "df_train['Ticket'].value_counts()"
      ],
      "metadata": {
        "id": "rH2pynSc-D6l"
      },
      "execution_count": null,
      "outputs": []
    },
    {
      "cell_type": "markdown",
      "source": [
        "# Feature Engineering "
      ],
      "metadata": {
        "id": "sjMNmjKPCSJ0"
      }
    },
    {
      "cell_type": "markdown",
      "source": [
        "## null data를 처리해주는 방법"
      ],
      "metadata": {
        "id": "USc1f8h5C34p"
      }
    },
    {
      "cell_type": "markdown",
      "source": [
        "- null data를 채우는 방법에 따라 모델의 성능이 좌지우지될 수 있다.\n",
        "- Feature Engineering 할 때는 실제 모델의 학습에 쓰려고 하는 것이므로, train 뿐 아니라 test도 똑같이 적용해주어야 한다. 중요 !!"
      ],
      "metadata": {
        "id": "pMBg7EAcDQ-U"
      }
    },
    {
      "cell_type": "markdown",
      "source": [
        "### 1) Initial라는 Feature 만들어서 Age에 있는 null data 채워주기"
      ],
      "metadata": {
        "id": "UHIHBjEPSaLH"
      }
    },
    {
      "cell_type": "code",
      "source": [
        "df_train['Age'].isnull().sum()"
      ],
      "metadata": {
        "colab": {
          "base_uri": "https://localhost:8080/"
        },
        "id": "ZUJRY8EeAoRS",
        "outputId": "3746ba25-107c-4503-ba68-8c860c42b3aa"
      },
      "execution_count": null,
      "outputs": [
        {
          "output_type": "execute_result",
          "data": {
            "text/plain": [
              "177"
            ]
          },
          "metadata": {},
          "execution_count": 37
        }
      ]
    },
    {
      "cell_type": "code",
      "source": [
        "df_train['Name']    # 이름에 Mr. Mrs. 같은 정보들이 들어있음을 알 수 있다. "
      ],
      "metadata": {
        "colab": {
          "base_uri": "https://localhost:8080/"
        },
        "id": "9DNx41JbDCqR",
        "outputId": "d139731f-3fce-4abf-c09c-22204d42182e"
      },
      "execution_count": null,
      "outputs": [
        {
          "output_type": "execute_result",
          "data": {
            "text/plain": [
              "0                                Braund, Mr. Owen Harris\n",
              "1      Cumings, Mrs. John Bradley (Florence Briggs Th...\n",
              "2                                 Heikkinen, Miss. Laina\n",
              "3           Futrelle, Mrs. Jacques Heath (Lily May Peel)\n",
              "4                               Allen, Mr. William Henry\n",
              "                             ...                        \n",
              "886                                Montvila, Rev. Juozas\n",
              "887                         Graham, Miss. Margaret Edith\n",
              "888             Johnston, Miss. Catherine Helen \"Carrie\"\n",
              "889                                Behr, Mr. Karl Howell\n",
              "890                                  Dooley, Mr. Patrick\n",
              "Name: Name, Length: 891, dtype: object"
            ]
          },
          "metadata": {},
          "execution_count": 38
        }
      ]
    },
    {
      "cell_type": "code",
      "source": [
        "# pandas의 좋은 기능 중 하나 \n",
        "# -> .sum 하면 전부 str로 바꿔준다. \n",
        "# -> .extract raw data에 있는 value들 중에 정규 표현식에 맞는 값들 추출해줌.  \n",
        "df_train['Initial'] = df_train['Name'].str.extract('([A-Za-z]+)\\.')    # 알파벳을 포함하고 그 뒤에 .이 붙는 것\n",
        "df_test['Initial'] = df_test['Name'].str.extract('([A-Za-z]+)\\.')    # 알파벳을 포함하고 그 뒤에 .이 붙는 것"
      ],
      "metadata": {
        "id": "YKHTQqZrDkPA"
      },
      "execution_count": null,
      "outputs": []
    },
    {
      "cell_type": "markdown",
      "source": [
        "-> 새로운 feature를 하나 만들었다 !!"
      ],
      "metadata": {
        "id": "aCPwgDyyHn_R"
      }
    },
    {
      "cell_type": "code",
      "source": [
        "pd.crosstab(df_train['Initial'], df_train['Sex']).T.style.background_gradient(cmap='summer_r')"
      ],
      "metadata": {
        "colab": {
          "base_uri": "https://localhost:8080/",
          "height": 163
        },
        "id": "PbZ5CZMkHRq0",
        "outputId": "6c1dec32-ab6d-4e0b-c716-7efaaac9e2b2"
      },
      "execution_count": null,
      "outputs": [
        {
          "output_type": "execute_result",
          "data": {
            "text/plain": [
              "<pandas.io.formats.style.Styler at 0x7fdca0157210>"
            ],
            "text/html": [
              "<style type=\"text/css\">\n",
              "#T_9cc30_row0_col0, #T_9cc30_row0_col1, #T_9cc30_row0_col3, #T_9cc30_row0_col4, #T_9cc30_row0_col5, #T_9cc30_row0_col7, #T_9cc30_row0_col8, #T_9cc30_row0_col12, #T_9cc30_row0_col15, #T_9cc30_row0_col16, #T_9cc30_row1_col2, #T_9cc30_row1_col6, #T_9cc30_row1_col9, #T_9cc30_row1_col10, #T_9cc30_row1_col11, #T_9cc30_row1_col13, #T_9cc30_row1_col14 {\n",
              "  background-color: #ffff66;\n",
              "  color: #000000;\n",
              "}\n",
              "#T_9cc30_row0_col2, #T_9cc30_row0_col6, #T_9cc30_row0_col9, #T_9cc30_row0_col10, #T_9cc30_row0_col11, #T_9cc30_row0_col13, #T_9cc30_row0_col14, #T_9cc30_row1_col0, #T_9cc30_row1_col1, #T_9cc30_row1_col3, #T_9cc30_row1_col4, #T_9cc30_row1_col5, #T_9cc30_row1_col7, #T_9cc30_row1_col8, #T_9cc30_row1_col12, #T_9cc30_row1_col15, #T_9cc30_row1_col16 {\n",
              "  background-color: #008066;\n",
              "  color: #f1f1f1;\n",
              "}\n",
              "</style>\n",
              "<table id=\"T_9cc30_\" class=\"dataframe\">\n",
              "  <thead>\n",
              "    <tr>\n",
              "      <th class=\"index_name level0\" >Initial</th>\n",
              "      <th class=\"col_heading level0 col0\" >Capt</th>\n",
              "      <th class=\"col_heading level0 col1\" >Col</th>\n",
              "      <th class=\"col_heading level0 col2\" >Countess</th>\n",
              "      <th class=\"col_heading level0 col3\" >Don</th>\n",
              "      <th class=\"col_heading level0 col4\" >Dr</th>\n",
              "      <th class=\"col_heading level0 col5\" >Jonkheer</th>\n",
              "      <th class=\"col_heading level0 col6\" >Lady</th>\n",
              "      <th class=\"col_heading level0 col7\" >Major</th>\n",
              "      <th class=\"col_heading level0 col8\" >Master</th>\n",
              "      <th class=\"col_heading level0 col9\" >Miss</th>\n",
              "      <th class=\"col_heading level0 col10\" >Mlle</th>\n",
              "      <th class=\"col_heading level0 col11\" >Mme</th>\n",
              "      <th class=\"col_heading level0 col12\" >Mr</th>\n",
              "      <th class=\"col_heading level0 col13\" >Mrs</th>\n",
              "      <th class=\"col_heading level0 col14\" >Ms</th>\n",
              "      <th class=\"col_heading level0 col15\" >Rev</th>\n",
              "      <th class=\"col_heading level0 col16\" >Sir</th>\n",
              "    </tr>\n",
              "    <tr>\n",
              "      <th class=\"index_name level0\" >Sex</th>\n",
              "      <th class=\"blank col0\" >&nbsp;</th>\n",
              "      <th class=\"blank col1\" >&nbsp;</th>\n",
              "      <th class=\"blank col2\" >&nbsp;</th>\n",
              "      <th class=\"blank col3\" >&nbsp;</th>\n",
              "      <th class=\"blank col4\" >&nbsp;</th>\n",
              "      <th class=\"blank col5\" >&nbsp;</th>\n",
              "      <th class=\"blank col6\" >&nbsp;</th>\n",
              "      <th class=\"blank col7\" >&nbsp;</th>\n",
              "      <th class=\"blank col8\" >&nbsp;</th>\n",
              "      <th class=\"blank col9\" >&nbsp;</th>\n",
              "      <th class=\"blank col10\" >&nbsp;</th>\n",
              "      <th class=\"blank col11\" >&nbsp;</th>\n",
              "      <th class=\"blank col12\" >&nbsp;</th>\n",
              "      <th class=\"blank col13\" >&nbsp;</th>\n",
              "      <th class=\"blank col14\" >&nbsp;</th>\n",
              "      <th class=\"blank col15\" >&nbsp;</th>\n",
              "      <th class=\"blank col16\" >&nbsp;</th>\n",
              "    </tr>\n",
              "  </thead>\n",
              "  <tbody>\n",
              "    <tr>\n",
              "      <th id=\"T_9cc30_level0_row0\" class=\"row_heading level0 row0\" >female</th>\n",
              "      <td id=\"T_9cc30_row0_col0\" class=\"data row0 col0\" >0</td>\n",
              "      <td id=\"T_9cc30_row0_col1\" class=\"data row0 col1\" >0</td>\n",
              "      <td id=\"T_9cc30_row0_col2\" class=\"data row0 col2\" >1</td>\n",
              "      <td id=\"T_9cc30_row0_col3\" class=\"data row0 col3\" >0</td>\n",
              "      <td id=\"T_9cc30_row0_col4\" class=\"data row0 col4\" >1</td>\n",
              "      <td id=\"T_9cc30_row0_col5\" class=\"data row0 col5\" >0</td>\n",
              "      <td id=\"T_9cc30_row0_col6\" class=\"data row0 col6\" >1</td>\n",
              "      <td id=\"T_9cc30_row0_col7\" class=\"data row0 col7\" >0</td>\n",
              "      <td id=\"T_9cc30_row0_col8\" class=\"data row0 col8\" >0</td>\n",
              "      <td id=\"T_9cc30_row0_col9\" class=\"data row0 col9\" >182</td>\n",
              "      <td id=\"T_9cc30_row0_col10\" class=\"data row0 col10\" >2</td>\n",
              "      <td id=\"T_9cc30_row0_col11\" class=\"data row0 col11\" >1</td>\n",
              "      <td id=\"T_9cc30_row0_col12\" class=\"data row0 col12\" >0</td>\n",
              "      <td id=\"T_9cc30_row0_col13\" class=\"data row0 col13\" >125</td>\n",
              "      <td id=\"T_9cc30_row0_col14\" class=\"data row0 col14\" >1</td>\n",
              "      <td id=\"T_9cc30_row0_col15\" class=\"data row0 col15\" >0</td>\n",
              "      <td id=\"T_9cc30_row0_col16\" class=\"data row0 col16\" >0</td>\n",
              "    </tr>\n",
              "    <tr>\n",
              "      <th id=\"T_9cc30_level0_row1\" class=\"row_heading level0 row1\" >male</th>\n",
              "      <td id=\"T_9cc30_row1_col0\" class=\"data row1 col0\" >1</td>\n",
              "      <td id=\"T_9cc30_row1_col1\" class=\"data row1 col1\" >2</td>\n",
              "      <td id=\"T_9cc30_row1_col2\" class=\"data row1 col2\" >0</td>\n",
              "      <td id=\"T_9cc30_row1_col3\" class=\"data row1 col3\" >1</td>\n",
              "      <td id=\"T_9cc30_row1_col4\" class=\"data row1 col4\" >6</td>\n",
              "      <td id=\"T_9cc30_row1_col5\" class=\"data row1 col5\" >1</td>\n",
              "      <td id=\"T_9cc30_row1_col6\" class=\"data row1 col6\" >0</td>\n",
              "      <td id=\"T_9cc30_row1_col7\" class=\"data row1 col7\" >2</td>\n",
              "      <td id=\"T_9cc30_row1_col8\" class=\"data row1 col8\" >40</td>\n",
              "      <td id=\"T_9cc30_row1_col9\" class=\"data row1 col9\" >0</td>\n",
              "      <td id=\"T_9cc30_row1_col10\" class=\"data row1 col10\" >0</td>\n",
              "      <td id=\"T_9cc30_row1_col11\" class=\"data row1 col11\" >0</td>\n",
              "      <td id=\"T_9cc30_row1_col12\" class=\"data row1 col12\" >517</td>\n",
              "      <td id=\"T_9cc30_row1_col13\" class=\"data row1 col13\" >0</td>\n",
              "      <td id=\"T_9cc30_row1_col14\" class=\"data row1 col14\" >0</td>\n",
              "      <td id=\"T_9cc30_row1_col15\" class=\"data row1 col15\" >6</td>\n",
              "      <td id=\"T_9cc30_row1_col16\" class=\"data row1 col16\" >1</td>\n",
              "    </tr>\n",
              "  </tbody>\n",
              "</table>\n"
            ]
          },
          "metadata": {},
          "execution_count": 40
        }
      ]
    },
    {
      "cell_type": "code",
      "source": [
        "df_train['Initial'].replace(['Mlle','Mme','Ms','Dr','Major','Lady','Countess','Jonkheer','Col','Rev','Capt','Sir','Don', 'Dona'],\n",
        "                        ['Miss','Miss','Miss','Mr','Mr','Mrs','Mrs','Other','Other','Other','Mr','Mr','Mr', 'Mr'],inplace=True)\n",
        "\n",
        "df_test['Initial'].replace(['Mlle','Mme','Ms','Dr','Major','Lady','Countess','Jonkheer','Col','Rev','Capt','Sir','Don', 'Dona'],\n",
        "                        ['Miss','Miss','Miss','Mr','Mr','Mrs','Mrs','Other','Other','Other','Mr','Mr','Mr', 'Mr'],inplace=True)"
      ],
      "metadata": {
        "id": "cgU5d4ZOHzs_"
      },
      "execution_count": null,
      "outputs": []
    },
    {
      "cell_type": "code",
      "source": [
        "df_train.groupby('Initial')['Survived'].mean().plot.bar()"
      ],
      "metadata": {
        "colab": {
          "base_uri": "https://localhost:8080/",
          "height": 406
        },
        "id": "tEoqIzRMIC1n",
        "outputId": "f0c5a3ba-2a39-48a0-d88a-a29f6bfd337e"
      },
      "execution_count": null,
      "outputs": [
        {
          "output_type": "execute_result",
          "data": {
            "text/plain": [
              "<matplotlib.axes._subplots.AxesSubplot at 0x7fdc9fe11b10>"
            ]
          },
          "metadata": {},
          "execution_count": 42
        },
        {
          "output_type": "display_data",
          "data": {
            "text/plain": [
              "<Figure size 432x288 with 1 Axes>"
            ],
            "image/png": "[encoded data removed]"
          },
          "metadata": {
            "needs_background": "light"
          }
        }
      ]
    },
    {
      "cell_type": "markdown",
      "source": [
        "test set의 null도 train set에서 얻은 통계치를 가지고 채워줘야 한다."
      ],
      "metadata": {
        "id": "Ho89mhYyJc07"
      }
    },
    {
      "cell_type": "markdown",
      "source": [
        "null data만 뽑아내는 방법이 무엇이 있을까? \n",
        "- null data 뽑아내고, 특정값으로 치환해야한다\n",
        "- loc 사용 !!\n",
        " - boolean으로도 indexing 가능함. \n",
        "  - df_train['Initial'].isnull() 이런식으로 boolean 마스크 씌워서 할 수 있고,\n",
        "  - 그리고 조건 여러개 한번에 indexing 가능하다 (& 사용)\n",
        "- pandas에서 indexing할 때 iloc, loc 많이 쓰인다."
      ],
      "metadata": {
        "id": "0dtj3gDiLEYK"
      }
    },
    {
      "cell_type": "code",
      "source": [
        "df_train.groupby('Initial').mean()"
      ],
      "metadata": {
        "colab": {
          "base_uri": "https://localhost:8080/",
          "height": 282
        },
        "id": "NtiplYEiMenm",
        "outputId": "6b706d41-a044-4674-e9a9-e262e267b90a"
      },
      "execution_count": null,
      "outputs": [
        {
          "output_type": "execute_result",
          "data": {
            "text/plain": [
              "         PassengerId  Survived    Pclass        Age     SibSp     Parch  \\\n",
              "Initial                                                                   \n",
              "Master    414.975000  0.575000  2.625000   4.574167  2.300000  1.375000   \n",
              "Miss      411.741935  0.704301  2.284946  21.860000  0.698925  0.537634   \n",
              "Mr        455.880907  0.162571  2.381853  32.739609  0.293006  0.151229   \n",
              "Mrs       456.393701  0.795276  1.984252  35.981818  0.692913  0.818898   \n",
              "Other     564.444444  0.111111  1.666667  45.888889  0.111111  0.111111   \n",
              "\n",
              "             Fare  \n",
              "Initial            \n",
              "Master   3.340710  \n",
              "Miss     3.123713  \n",
              "Mr       2.651507  \n",
              "Mrs      3.443751  \n",
              "Other    2.641605  "
            ],
            "text/html": [
              "\n",
              "  <div id=\"df-af26c044-a4a1-47e0-9a4b-c916a1d05b91\">\n",
              "    <div class=\"colab-df-container\">\n",
              "      <div>\n",
              "<style scoped>\n",
              "    .dataframe tbody tr th:only-of-type {\n",
              "        vertical-align: middle;\n",
              "    }\n",
              "\n",
              "    .dataframe tbody tr th {\n",
              "        vertical-align: top;\n",
              "    }\n",
              "\n",
              "    .dataframe thead th {\n",
              "        text-align: right;\n",
              "    }\n",
              "</style>\n",
              "<table border=\"1\" class=\"dataframe\">\n",
              "  <thead>\n",
              "    <tr style=\"text-align: right;\">\n",
              "      <th></th>\n",
              "      <th>PassengerId</th>\n",
              "      <th>Survived</th>\n",
              "      <th>Pclass</th>\n",
              "      <th>Age</th>\n",
              "      <th>SibSp</th>\n",
              "      <th>Parch</th>\n",
              "      <th>Fare</th>\n",
              "    </tr>\n",
              "    <tr>\n",
              "      <th>Initial</th>\n",
              "      <th></th>\n",
              "      <th></th>\n",
              "      <th></th>\n",
              "      <th></th>\n",
              "      <th></th>\n",
              "      <th></th>\n",
              "      <th></th>\n",
              "    </tr>\n",
              "  </thead>\n",
              "  <tbody>\n",
              "    <tr>\n",
              "      <th>Master</th>\n",
              "      <td>414.975000</td>\n",
              "      <td>0.575000</td>\n",
              "      <td>2.625000</td>\n",
              "      <td>4.574167</td>\n",
              "      <td>2.300000</td>\n",
              "      <td>1.375000</td>\n",
              "      <td>3.340710</td>\n",
              "    </tr>\n",
              "    <tr>\n",
              "      <th>Miss</th>\n",
              "      <td>411.741935</td>\n",
              "      <td>0.704301</td>\n",
              "      <td>2.284946</td>\n",
              "      <td>21.860000</td>\n",
              "      <td>0.698925</td>\n",
              "      <td>0.537634</td>\n",
              "      <td>3.123713</td>\n",
              "    </tr>\n",
              "    <tr>\n",
              "      <th>Mr</th>\n",
              "      <td>455.880907</td>\n",
              "      <td>0.162571</td>\n",
              "      <td>2.381853</td>\n",
              "      <td>32.739609</td>\n",
              "      <td>0.293006</td>\n",
              "      <td>0.151229</td>\n",
              "      <td>2.651507</td>\n",
              "    </tr>\n",
              "    <tr>\n",
              "      <th>Mrs</th>\n",
              "      <td>456.393701</td>\n",
              "      <td>0.795276</td>\n",
              "      <td>1.984252</td>\n",
              "      <td>35.981818</td>\n",
              "      <td>0.692913</td>\n",
              "      <td>0.818898</td>\n",
              "      <td>3.443751</td>\n",
              "    </tr>\n",
              "    <tr>\n",
              "      <th>Other</th>\n",
              "      <td>564.444444</td>\n",
              "      <td>0.111111</td>\n",
              "      <td>1.666667</td>\n",
              "      <td>45.888889</td>\n",
              "      <td>0.111111</td>\n",
              "      <td>0.111111</td>\n",
              "      <td>2.641605</td>\n",
              "    </tr>\n",
              "  </tbody>\n",
              "</table>\n",
              "</div>\n",
              "      <button class=\"colab-df-convert\" onclick=\"convertToInteractive('df-af26c044-a4a1-47e0-9a4b-c916a1d05b91')\"\n",
              "              title=\"Convert this dataframe to an interactive table.\"\n",
              "              style=\"display:none;\">\n",
              "        \n",
              "  <svg xmlns=\"http://www.w3.org/2000/svg\" height=\"24px\"viewBox=\"0 0 24 24\"\n",
              "       width=\"24px\">\n",
              "    <path d=\"M0 0h24v24H0V0z\" fill=\"none\"/>\n",
              "    <path d=\"M18.56 5.44l.94 2.06.94-2.06 2.06-.94-2.06-.94-.94-2.06-.94 2.06-2.06.94zm-11 1L8.5 8.5l.94-2.06 2.06-.94-2.06-.94L8.5 2.5l-.94 2.06-2.06.94zm10 10l.94 2.06.94-2.06 2.06-.94-2.06-.94-.94-2.06-.94 2.06-2.06.94z\"/><path d=\"M17.41 7.96l-1.37-1.37c-.4-.4-.92-.59-1.43-.59-.52 0-1.04.2-1.43.59L10.3 9.45l-7.72 7.72c-.78.78-.78 2.05 0 2.83L4 21.41c.39.39.9.59 1.41.59.51 0 1.02-.2 1.41-.59l7.78-7.78 2.81-2.81c.8-.78.8-2.07 0-2.86zM5.41 20L4 18.59l7.72-7.72 1.47 1.35L5.41 20z\"/>\n",
              "  </svg>\n",
              "      </button>\n",
              "      \n",
              "  <style>\n",
              "    .colab-df-container {\n",
              "      display:flex;\n",
              "      flex-wrap:wrap;\n",
              "      gap: 12px;\n",
              "    }\n",
              "\n",
              "    .colab-df-convert {\n",
              "      background-color: #E8F0FE;\n",
              "      border: none;\n",
              "      border-radius: 50%;\n",
              "      cursor: pointer;\n",
              "      display: none;\n",
              "      fill: #1967D2;\n",
              "      height: 32px;\n",
              "      padding: 0 0 0 0;\n",
              "      width: 32px;\n",
              "    }\n",
              "\n",
              "    .colab-df-convert:hover {\n",
              "      background-color: #E2EBFA;\n",
              "      box-shadow: 0px 1px 2px rgba(60, 64, 67, 0.3), 0px 1px 3px 1px rgba(60, 64, 67, 0.15);\n",
              "      fill: #174EA6;\n",
              "    }\n",
              "\n",
              "    [theme=dark] .colab-df-convert {\n",
              "      background-color: #3B4455;\n",
              "      fill: #D2E3FC;\n",
              "    }\n",
              "\n",
              "    [theme=dark] .colab-df-convert:hover {\n",
              "      background-color: #434B5C;\n",
              "      box-shadow: 0px 1px 3px 1px rgba(0, 0, 0, 0.15);\n",
              "      filter: drop-shadow(0px 1px 2px rgba(0, 0, 0, 0.3));\n",
              "      fill: #FFFFFF;\n",
              "    }\n",
              "  </style>\n",
              "\n",
              "      <script>\n",
              "        const buttonEl =\n",
              "          document.querySelector('#df-af26c044-a4a1-47e0-9a4b-c916a1d05b91 button.colab-df-convert');\n",
              "        buttonEl.style.display =\n",
              "          google.colab.kernel.accessAllowed ? 'block' : 'none';\n",
              "\n",
              "        async function convertToInteractive(key) {\n",
              "          const element = document.querySelector('#df-af26c044-a4a1-47e0-9a4b-c916a1d05b91');\n",
              "          const dataTable =\n",
              "            await google.colab.kernel.invokeFunction('convertToInteractive',\n",
              "                                                     [key], {});\n",
              "          if (!dataTable) return;\n",
              "\n",
              "          const docLinkHtml = 'Like what you see? Visit the ' +\n",
              "            '<a target=\"_blank\" href=https://colab.research.google.com/notebooks/data_table.ipynb>data table notebook</a>'\n",
              "            + ' to learn more about interactive tables.';\n",
              "          element.innerHTML = '';\n",
              "          dataTable['output_type'] = 'display_data';\n",
              "          await google.colab.output.renderOutput(dataTable, element);\n",
              "          const docLink = document.createElement('div');\n",
              "          docLink.innerHTML = docLinkHtml;\n",
              "          element.appendChild(docLink);\n",
              "        }\n",
              "      </script>\n",
              "    </div>\n",
              "  </div>\n",
              "  "
            ]
          },
          "metadata": {},
          "execution_count": 43
        }
      ]
    },
    {
      "cell_type": "code",
      "source": [
        "df_train.loc[(df_train['Age'].isnull())&(df_train['Initial']=='Mr'),'Age'] = 33 # Mr 성 가진 사람의 평균 age로 채워준다\n",
        "df_train.loc[(df_train['Age'].isnull())&(df_train['Initial']=='Miss'),'Age'] = 21\n",
        "df_train.loc[(df_train['Age'].isnull())&(df_train['Initial']=='Master'),'Age'] = 5\n",
        "df_train.loc[(df_train['Age'].isnull())&(df_train['Initial']=='Mrs'),'Age'] = 36\n",
        "df_train.loc[(df_train['Age'].isnull())&(df_train['Initial']=='Other'),'Age'] = 46"
      ],
      "metadata": {
        "id": "G-Hf2SUEOYju"
      },
      "execution_count": null,
      "outputs": []
    },
    {
      "cell_type": "code",
      "source": [
        "# 확인해보자!\n",
        "# 이제 Mr 성을 가진 사람 중 Age = null data <- 없음을 알 수 있다. \n",
        "df_train.loc[(df_train['Initial']=='Ms'),'Age'].isnull().sum()"
      ],
      "metadata": {
        "colab": {
          "base_uri": "https://localhost:8080/"
        },
        "id": "lHbTPGoGMunJ",
        "outputId": "80bdac1b-6eb9-4e47-d8ef-dd47531d537a"
      },
      "execution_count": null,
      "outputs": [
        {
          "output_type": "execute_result",
          "data": {
            "text/plain": [
              "0"
            ]
          },
          "metadata": {},
          "execution_count": 45
        }
      ]
    },
    {
      "cell_type": "code",
      "source": [
        "# test도 똑같이 null 채워주자\n",
        "df_test.loc[(df_test['Age'].isnull())&(df_test['Initial']=='Mr'),'Age'] = 33 # Mr 성 가진 사람의 평균 age로 채워준다\n",
        "df_test.loc[(df_test['Age'].isnull())&(df_test['Initial']=='Miss'),'Age'] = 21\n",
        "df_test.loc[(df_test['Age'].isnull())&(df_test['Initial']=='Master'),'Age'] = 5\n",
        "df_test.loc[(df_test['Age'].isnull())&(df_test['Initial']=='Mrs'),'Age'] = 36\n",
        "df_test.loc[(df_test['Age'].isnull())&(df_test['Initial']=='Other'),'Age'] = 46"
      ],
      "metadata": {
        "id": "vy0iBjePPxO7"
      },
      "execution_count": null,
      "outputs": []
    },
    {
      "cell_type": "markdown",
      "source": [
        "### 2) Embarked의 null 채우기"
      ],
      "metadata": {
        "id": "gOCd3ngYS1Oo"
      }
    },
    {
      "cell_type": "code",
      "source": [
        "df_train['Embarked'].isnull().sum()"
      ],
      "metadata": {
        "colab": {
          "base_uri": "https://localhost:8080/"
        },
        "id": "tr3dgHsOQkhD",
        "outputId": "21dab46f-833b-4012-fca5-0755eeaeeb6a"
      },
      "execution_count": null,
      "outputs": [
        {
          "output_type": "execute_result",
          "data": {
            "text/plain": [
              "2"
            ]
          },
          "metadata": {},
          "execution_count": 47
        }
      ]
    },
    {
      "cell_type": "markdown",
      "source": [
        "두 개 뿐이기 때문에 Embarked 중에 가장 많은 탑승객이 있었던 S로 간단하게 null 채우자.\n",
        "- dataframe의 fillna 이용하면 쉽게 채울 수 있다! (inplace = True 로 하여 실제로 적용하기)"
      ],
      "metadata": {
        "id": "WL4U-yo9TF7p"
      }
    },
    {
      "cell_type": "code",
      "source": [
        "df_train['Embarked'].fillna('S',inplace=True)"
      ],
      "metadata": {
        "id": "Hn-zNhbITEmd"
      },
      "execution_count": null,
      "outputs": []
    },
    {
      "cell_type": "markdown",
      "source": [
        "### 3) Age를 continuous 에서 categorical로 바꿔보기"
      ],
      "metadata": {
        "id": "vPbLLjvQTjvJ"
      }
    },
    {
      "cell_type": "markdown",
      "source": [
        "- continuous feature를 categorical feature로 바꾸는 것은 자칫 정보의 손실이 일어날 수 있지만, 어떤 상황에서는 더 잘 맞을 수도 있고, 더 좋을 수도 있다!"
      ],
      "metadata": {
        "id": "uaYv90kt3X7s"
      }
    },
    {
      "cell_type": "code",
      "source": [
        "df_train.loc[df_train['Age']<10,'Age_cat']=0            # 앞 조건의 Age를 가진 데이터의 'Age_cat' 카테고리를 0으로 설정한다.\n",
        "df_train.loc[(df_train['Age']>=10)&(df_train['Age']<20),'Age_cat']=1\n",
        "df_train.loc[(df_train['Age']>=20)&(df_train['Age']<30),'Age_cat']=2\n",
        "df_train.loc[(df_train['Age']>=30)&(df_train['Age']<40),'Age_cat']=3\n",
        "df_train.loc[(df_train['Age']>=40)&(df_train['Age']<50),'Age_cat']=4\n",
        "df_train.loc[(df_train['Age']>=50)&(df_train['Age']<60),'Age_cat']=5\n",
        "df_train.loc[(df_train['Age']>=60)&(df_train['Age']<70),'Age_cat']=6\n",
        "df_train.loc[df_train['Age']>=70,'Age_cat']=7"
      ],
      "metadata": {
        "id": "Ox-0pZyLTa5J"
      },
      "execution_count": null,
      "outputs": []
    },
    {
      "cell_type": "code",
      "source": [
        "df_test.loc[df_test['Age']<10,'Age_cat']=0            # 앞 조건의 Age를 가진 데이터의 'Age_cat' 카테고리를 0으로 설정한다.\n",
        "df_test.loc[(df_test['Age']>=10)&(df_test['Age']<20),'Age_cat']=1\n",
        "df_test.loc[(df_test['Age']>=20)&(df_test['Age']<30),'Age_cat']=2\n",
        "df_test.loc[(df_test['Age']>=30)&(df_test['Age']<40),'Age_cat']=3\n",
        "df_test.loc[(df_test['Age']>=40)&(df_test['Age']<50),'Age_cat']=4\n",
        "df_test.loc[(df_test['Age']>=50)&(df_test['Age']<60),'Age_cat']=5\n",
        "df_test.loc[(df_test['Age']>=60)&(df_test['Age']<70),'Age_cat']=6\n",
        "df_test.loc[df_test['Age']>=70,'Age_cat']=7"
      ],
      "metadata": {
        "id": "LmM21nwi5UYe"
      },
      "execution_count": null,
      "outputs": []
    },
    {
      "cell_type": "markdown",
      "source": [
        "- 위 작업을 좀 더 간단하게 함수로 처리하는 방법 !"
      ],
      "metadata": {
        "id": "wM6gQi2w6DO9"
      }
    },
    {
      "cell_type": "code",
      "source": [
        "def category_age(x):\n",
        "  if x < 10:\n",
        "    return 0\n",
        "  elif x < 20:\n",
        "    return 1\n",
        "  elif x <30:\n",
        "    return 2\n",
        "  elif x < 40 :\n",
        "    return 3\n",
        "  elif x < 50:\n",
        "    return 4\n",
        "  elif x < 60:\n",
        "    return 5\n",
        "  elif x <70:\n",
        "    return 6\n",
        "  else:\n",
        "    return 7"
      ],
      "metadata": {
        "id": "CviuEkC66H1e"
      },
      "execution_count": null,
      "outputs": []
    },
    {
      "cell_type": "code",
      "source": [
        "df_train['Age_cat_2']  = df_train['Age'].apply(category_age)"
      ],
      "metadata": {
        "id": "N3slrCaj6hTA"
      },
      "execution_count": null,
      "outputs": []
    },
    {
      "cell_type": "code",
      "source": [
        "# any: 하나라도 true가 있으면 true, true가 하나도 없으면 false\n",
        "# all: 모든게 true 일 때 true, 하나라도 다른 게 있으면 false\n",
        "(df_train['Age_cat'] == df_train['Age_cat_2']).any()"
      ],
      "metadata": {
        "colab": {
          "base_uri": "https://localhost:8080/"
        },
        "id": "biuilxh_6trx",
        "outputId": "4701b637-ac20-48a1-c7c1-ab17d74fcb0b"
      },
      "execution_count": null,
      "outputs": [
        {
          "output_type": "execute_result",
          "data": {
            "text/plain": [
              "True"
            ]
          },
          "metadata": {},
          "execution_count": 53
        }
      ]
    },
    {
      "cell_type": "code",
      "source": [
        "# inplace를 True로 줘야 실제로 적용이 된다 !!\n",
        "# 필요없는 열 날리기\n",
        "\n",
        "df_train.drop(['Age','Age_cat_2'],axis=1, inplace=True)\n",
        "df_test.drop(['Age'],axis=1,inplace=True)"
      ],
      "metadata": {
        "id": "9porTqf169Mm"
      },
      "execution_count": null,
      "outputs": []
    },
    {
      "cell_type": "code",
      "source": [
        "df_train.head()"
      ],
      "metadata": {
        "colab": {
          "base_uri": "https://localhost:8080/",
          "height": 548
        },
        "id": "NVoyU98b72VX",
        "outputId": "78b4ac63-4063-480f-cf66-cb6827901a60"
      },
      "execution_count": null,
      "outputs": [
        {
          "output_type": "execute_result",
          "data": {
            "text/plain": [
              "   PassengerId  Survived  Pclass  \\\n",
              "0            1         0       3   \n",
              "1            2         1       1   \n",
              "2            3         1       3   \n",
              "3            4         1       1   \n",
              "4            5         0       3   \n",
              "\n",
              "                                                Name     Sex  SibSp  Parch  \\\n",
              "0                            Braund, Mr. Owen Harris    male      1      0   \n",
              "1  Cumings, Mrs. John Bradley (Florence Briggs Th...  female      1      0   \n",
              "2                             Heikkinen, Miss. Laina  female      0      0   \n",
              "3       Futrelle, Mrs. Jacques Heath (Lily May Peel)  female      1      0   \n",
              "4                           Allen, Mr. William Henry    male      0      0   \n",
              "\n",
              "             Ticket      Fare Cabin Embarked Initial  Age_cat  \n",
              "0         A/5 21171  1.981001   NaN        S      Mr      2.0  \n",
              "1          PC 17599  4.266662   C85        C     Mrs      3.0  \n",
              "2  STON/O2. 3101282  2.070022   NaN        S    Miss      2.0  \n",
              "3            113803  3.972177  C123        S     Mrs      3.0  \n",
              "4            373450  2.085672   NaN        S      Mr      3.0  "
            ],
            "text/html": [
              "\n",
              "  <div id=\"df-1a93ff08-cf98-4fb9-bcc7-cf8bbb077614\">\n",
              "    <div class=\"colab-df-container\">\n",
              "      <div>\n",
              "<style scoped>\n",
              "    .dataframe tbody tr th:only-of-type {\n",
              "        vertical-align: middle;\n",
              "    }\n",
              "\n",
              "    .dataframe tbody tr th {\n",
              "        vertical-align: top;\n",
              "    }\n",
              "\n",
              "    .dataframe thead th {\n",
              "        text-align: right;\n",
              "    }\n",
              "</style>\n",
              "<table border=\"1\" class=\"dataframe\">\n",
              "  <thead>\n",
              "    <tr style=\"text-align: right;\">\n",
              "      <th></th>\n",
              "      <th>PassengerId</th>\n",
              "      <th>Survived</th>\n",
              "      <th>Pclass</th>\n",
              "      <th>Name</th>\n",
              "      <th>Sex</th>\n",
              "      <th>SibSp</th>\n",
              "      <th>Parch</th>\n",
              "      <th>Ticket</th>\n",
              "      <th>Fare</th>\n",
              "      <th>Cabin</th>\n",
              "      <th>Embarked</th>\n",
              "      <th>Initial</th>\n",
              "      <th>Age_cat</th>\n",
              "    </tr>\n",
              "  </thead>\n",
              "  <tbody>\n",
              "    <tr>\n",
              "      <th>0</th>\n",
              "      <td>1</td>\n",
              "      <td>0</td>\n",
              "      <td>3</td>\n",
              "      <td>Braund, Mr. Owen Harris</td>\n",
              "      <td>male</td>\n",
              "      <td>1</td>\n",
              "      <td>0</td>\n",
              "      <td>A/5 21171</td>\n",
              "      <td>1.981001</td>\n",
              "      <td>NaN</td>\n",
              "      <td>S</td>\n",
              "      <td>Mr</td>\n",
              "      <td>2.0</td>\n",
              "    </tr>\n",
              "    <tr>\n",
              "      <th>1</th>\n",
              "      <td>2</td>\n",
              "      <td>1</td>\n",
              "      <td>1</td>\n",
              "      <td>Cumings, Mrs. John Bradley (Florence Briggs Th...</td>\n",
              "      <td>female</td>\n",
              "      <td>1</td>\n",
              "      <td>0</td>\n",
              "      <td>PC 17599</td>\n",
              "      <td>4.266662</td>\n",
              "      <td>C85</td>\n",
              "      <td>C</td>\n",
              "      <td>Mrs</td>\n",
              "      <td>3.0</td>\n",
              "    </tr>\n",
              "    <tr>\n",
              "      <th>2</th>\n",
              "      <td>3</td>\n",
              "      <td>1</td>\n",
              "      <td>3</td>\n",
              "      <td>Heikkinen, Miss. Laina</td>\n",
              "      <td>female</td>\n",
              "      <td>0</td>\n",
              "      <td>0</td>\n",
              "      <td>STON/O2. 3101282</td>\n",
              "      <td>2.070022</td>\n",
              "      <td>NaN</td>\n",
              "      <td>S</td>\n",
              "      <td>Miss</td>\n",
              "      <td>2.0</td>\n",
              "    </tr>\n",
              "    <tr>\n",
              "      <th>3</th>\n",
              "      <td>4</td>\n",
              "      <td>1</td>\n",
              "      <td>1</td>\n",
              "      <td>Futrelle, Mrs. Jacques Heath (Lily May Peel)</td>\n",
              "      <td>female</td>\n",
              "      <td>1</td>\n",
              "      <td>0</td>\n",
              "      <td>113803</td>\n",
              "      <td>3.972177</td>\n",
              "      <td>C123</td>\n",
              "      <td>S</td>\n",
              "      <td>Mrs</td>\n",
              "      <td>3.0</td>\n",
              "    </tr>\n",
              "    <tr>\n",
              "      <th>4</th>\n",
              "      <td>5</td>\n",
              "      <td>0</td>\n",
              "      <td>3</td>\n",
              "      <td>Allen, Mr. William Henry</td>\n",
              "      <td>male</td>\n",
              "      <td>0</td>\n",
              "      <td>0</td>\n",
              "      <td>373450</td>\n",
              "      <td>2.085672</td>\n",
              "      <td>NaN</td>\n",
              "      <td>S</td>\n",
              "      <td>Mr</td>\n",
              "      <td>3.0</td>\n",
              "    </tr>\n",
              "  </tbody>\n",
              "</table>\n",
              "</div>\n",
              "      <button class=\"colab-df-convert\" onclick=\"convertToInteractive('df-1a93ff08-cf98-4fb9-bcc7-cf8bbb077614')\"\n",
              "              title=\"Convert this dataframe to an interactive table.\"\n",
              "              style=\"display:none;\">\n",
              "        \n",
              "  <svg xmlns=\"http://www.w3.org/2000/svg\" height=\"24px\"viewBox=\"0 0 24 24\"\n",
              "       width=\"24px\">\n",
              "    <path d=\"M0 0h24v24H0V0z\" fill=\"none\"/>\n",
              "    <path d=\"M18.56 5.44l.94 2.06.94-2.06 2.06-.94-2.06-.94-.94-2.06-.94 2.06-2.06.94zm-11 1L8.5 8.5l.94-2.06 2.06-.94-2.06-.94L8.5 2.5l-.94 2.06-2.06.94zm10 10l.94 2.06.94-2.06 2.06-.94-2.06-.94-.94-2.06-.94 2.06-2.06.94z\"/><path d=\"M17.41 7.96l-1.37-1.37c-.4-.4-.92-.59-1.43-.59-.52 0-1.04.2-1.43.59L10.3 9.45l-7.72 7.72c-.78.78-.78 2.05 0 2.83L4 21.41c.39.39.9.59 1.41.59.51 0 1.02-.2 1.41-.59l7.78-7.78 2.81-2.81c.8-.78.8-2.07 0-2.86zM5.41 20L4 18.59l7.72-7.72 1.47 1.35L5.41 20z\"/>\n",
              "  </svg>\n",
              "      </button>\n",
              "      \n",
              "  <style>\n",
              "    .colab-df-container {\n",
              "      display:flex;\n",
              "      flex-wrap:wrap;\n",
              "      gap: 12px;\n",
              "    }\n",
              "\n",
              "    .colab-df-convert {\n",
              "      background-color: #E8F0FE;\n",
              "      border: none;\n",
              "      border-radius: 50%;\n",
              "      cursor: pointer;\n",
              "      display: none;\n",
              "      fill: #1967D2;\n",
              "      height: 32px;\n",
              "      padding: 0 0 0 0;\n",
              "      width: 32px;\n",
              "    }\n",
              "\n",
              "    .colab-df-convert:hover {\n",
              "      background-color: #E2EBFA;\n",
              "      box-shadow: 0px 1px 2px rgba(60, 64, 67, 0.3), 0px 1px 3px 1px rgba(60, 64, 67, 0.15);\n",
              "      fill: #174EA6;\n",
              "    }\n",
              "\n",
              "    [theme=dark] .colab-df-convert {\n",
              "      background-color: #3B4455;\n",
              "      fill: #D2E3FC;\n",
              "    }\n",
              "\n",
              "    [theme=dark] .colab-df-convert:hover {\n",
              "      background-color: #434B5C;\n",
              "      box-shadow: 0px 1px 3px 1px rgba(0, 0, 0, 0.15);\n",
              "      filter: drop-shadow(0px 1px 2px rgba(0, 0, 0, 0.3));\n",
              "      fill: #FFFFFF;\n",
              "    }\n",
              "  </style>\n",
              "\n",
              "      <script>\n",
              "        const buttonEl =\n",
              "          document.querySelector('#df-1a93ff08-cf98-4fb9-bcc7-cf8bbb077614 button.colab-df-convert');\n",
              "        buttonEl.style.display =\n",
              "          google.colab.kernel.accessAllowed ? 'block' : 'none';\n",
              "\n",
              "        async function convertToInteractive(key) {\n",
              "          const element = document.querySelector('#df-1a93ff08-cf98-4fb9-bcc7-cf8bbb077614');\n",
              "          const dataTable =\n",
              "            await google.colab.kernel.invokeFunction('convertToInteractive',\n",
              "                                                     [key], {});\n",
              "          if (!dataTable) return;\n",
              "\n",
              "          const docLinkHtml = 'Like what you see? Visit the ' +\n",
              "            '<a target=\"_blank\" href=https://colab.research.google.com/notebooks/data_table.ipynb>data table notebook</a>'\n",
              "            + ' to learn more about interactive tables.';\n",
              "          element.innerHTML = '';\n",
              "          dataTable['output_type'] = 'display_data';\n",
              "          await google.colab.output.renderOutput(dataTable, element);\n",
              "          const docLink = document.createElement('div');\n",
              "          docLink.innerHTML = docLinkHtml;\n",
              "          element.appendChild(docLink);\n",
              "        }\n",
              "      </script>\n",
              "    </div>\n",
              "  </div>\n",
              "  "
            ]
          },
          "metadata": {},
          "execution_count": 55
        }
      ]
    },
    {
      "cell_type": "markdown",
      "source": [
        "### 4) Initial을 string -> numerical 바꾸기"
      ],
      "metadata": {
        "id": "1P0jfPWA8Rpe"
      }
    },
    {
      "cell_type": "markdown",
      "source": [
        "- map함수를 이용하자"
      ],
      "metadata": {
        "id": "CcHrTAHU9Ds4"
      }
    },
    {
      "cell_type": "code",
      "source": [
        "df_train['Initial'] = df_train['Initial'].map({'Master':0, 'Mr':2, 'Mrs':3, 'Other':4})\n",
        "df_test['Initial'] = df_test['Initial'].map({'Master':0, 'Mr':2, 'Mrs':3, 'Other':4})"
      ],
      "metadata": {
        "id": "-3iWfxm8738R"
      },
      "execution_count": null,
      "outputs": []
    },
    {
      "cell_type": "markdown",
      "source": [
        "#### 어떤 항목들 있는지 보는 방법 정리해보기"
      ],
      "metadata": {
        "id": "Op6mSEnt90nM"
      }
    },
    {
      "cell_type": "code",
      "source": [
        "df_train.Embarked.unique()    # 딱 해당하는 unique한 값들 보여줌"
      ],
      "metadata": {
        "colab": {
          "base_uri": "https://localhost:8080/"
        },
        "id": "KpqxboY59oE2",
        "outputId": "dc87a690-86be-46e2-f3bc-47f60bad0740"
      },
      "execution_count": null,
      "outputs": [
        {
          "output_type": "execute_result",
          "data": {
            "text/plain": [
              "array(['S', 'C', 'Q'], dtype=object)"
            ]
          },
          "metadata": {},
          "execution_count": 57
        }
      ]
    },
    {
      "cell_type": "code",
      "source": [
        "df_test.Embarked.unique()"
      ],
      "metadata": {
        "colab": {
          "base_uri": "https://localhost:8080/"
        },
        "id": "3bdur0CXr7yB",
        "outputId": "10ee4a84-a5cb-4d6f-d4b9-2c8a67b615a8"
      },
      "execution_count": null,
      "outputs": [
        {
          "output_type": "execute_result",
          "data": {
            "text/plain": [
              "array(['Q', 'S', 'C'], dtype=object)"
            ]
          },
          "metadata": {},
          "execution_count": 58
        }
      ]
    },
    {
      "cell_type": "code",
      "source": [
        "df_train['Embarked'].value_counts()   # value 수까지 count 해줌"
      ],
      "metadata": {
        "colab": {
          "base_uri": "https://localhost:8080/"
        },
        "id": "a2blsG0g9qyv",
        "outputId": "a95ad761-d510-4a4e-c09d-82c2e3588d61"
      },
      "execution_count": null,
      "outputs": [
        {
          "output_type": "execute_result",
          "data": {
            "text/plain": [
              "2    646\n",
              "0    168\n",
              "1     77\n",
              "Name: Embarked, dtype: int64"
            ]
          },
          "metadata": {},
          "execution_count": 60
        }
      ]
    },
    {
      "cell_type": "code",
      "source": [
        "df_test['Embarked'].value_counts()"
      ],
      "metadata": {
        "colab": {
          "base_uri": "https://localhost:8080/"
        },
        "id": "cA4sfo2xsDAM",
        "outputId": "b8cea902-656d-4f70-d65e-e58cdd7ec378"
      },
      "execution_count": null,
      "outputs": [
        {
          "output_type": "execute_result",
          "data": {
            "text/plain": [
              "2    270\n",
              "0    102\n",
              "1     46\n",
              "Name: Embarked, dtype: int64"
            ]
          },
          "metadata": {},
          "execution_count": 62
        }
      ]
    },
    {
      "cell_type": "code",
      "source": [
        "df_train['Embarked'] = df_train['Embarked'].map({'C': 0, 'Q': 1, 'S': 2})\n",
        "df_test['Embarked'] = df_test['Embarked'].map({'C': 0, 'Q': 1, 'S': 2})"
      ],
      "metadata": {
        "id": "Mz8rTEiM-YTJ"
      },
      "execution_count": null,
      "outputs": []
    },
    {
      "cell_type": "code",
      "source": [
        "df_train.head(10)"
      ],
      "metadata": {
        "colab": {
          "base_uri": "https://localhost:8080/",
          "height": 965
        },
        "id": "EDXKkkS8-enD",
        "outputId": "fa48b919-6eff-4a7d-92bf-2ea32f244b06"
      },
      "execution_count": null,
      "outputs": [
        {
          "output_type": "execute_result",
          "data": {
            "text/plain": [
              "   PassengerId  Survived  Pclass  \\\n",
              "0            1         0       3   \n",
              "1            2         1       1   \n",
              "2            3         1       3   \n",
              "3            4         1       1   \n",
              "4            5         0       3   \n",
              "5            6         0       3   \n",
              "6            7         0       1   \n",
              "7            8         0       3   \n",
              "8            9         1       3   \n",
              "9           10         1       2   \n",
              "\n",
              "                                                Name     Sex  SibSp  Parch  \\\n",
              "0                            Braund, Mr. Owen Harris    male      1      0   \n",
              "1  Cumings, Mrs. John Bradley (Florence Briggs Th...  female      1      0   \n",
              "2                             Heikkinen, Miss. Laina  female      0      0   \n",
              "3       Futrelle, Mrs. Jacques Heath (Lily May Peel)  female      1      0   \n",
              "4                           Allen, Mr. William Henry    male      0      0   \n",
              "5                                   Moran, Mr. James    male      0      0   \n",
              "6                            McCarthy, Mr. Timothy J    male      0      0   \n",
              "7                     Palsson, Master. Gosta Leonard    male      3      1   \n",
              "8  Johnson, Mrs. Oscar W (Elisabeth Vilhelmina Berg)  female      0      2   \n",
              "9                Nasser, Mrs. Nicholas (Adele Achem)  female      1      0   \n",
              "\n",
              "             Ticket      Fare Cabin  Embarked  Initial  Age_cat  \n",
              "0         A/5 21171  1.981001   NaN         2      2.0      2.0  \n",
              "1          PC 17599  4.266662   C85         0      3.0      3.0  \n",
              "2  STON/O2. 3101282  2.070022   NaN         2      NaN      2.0  \n",
              "3            113803  3.972177  C123         2      3.0      3.0  \n",
              "4            373450  2.085672   NaN         2      2.0      3.0  \n",
              "5            330877  2.135148   NaN         1      2.0      3.0  \n",
              "6             17463  3.948596   E46         2      2.0      5.0  \n",
              "7            349909  3.048088   NaN         2      0.0      0.0  \n",
              "8            347742  2.409941   NaN         2      3.0      2.0  \n",
              "9            237736  3.403555   NaN         0      3.0      1.0  "
            ],
            "text/html": [
              "\n",
              "  <div id=\"df-4a9fcc5e-7a0b-4e84-8209-2724448a75ef\">\n",
              "    <div class=\"colab-df-container\">\n",
              "      <div>\n",
              "<style scoped>\n",
              "    .dataframe tbody tr th:only-of-type {\n",
              "        vertical-align: middle;\n",
              "    }\n",
              "\n",
              "    .dataframe tbody tr th {\n",
              "        vertical-align: top;\n",
              "    }\n",
              "\n",
              "    .dataframe thead th {\n",
              "        text-align: right;\n",
              "    }\n",
              "</style>\n",
              "<table border=\"1\" class=\"dataframe\">\n",
              "  <thead>\n",
              "    <tr style=\"text-align: right;\">\n",
              "      <th></th>\n",
              "      <th>PassengerId</th>\n",
              "      <th>Survived</th>\n",
              "      <th>Pclass</th>\n",
              "      <th>Name</th>\n",
              "      <th>Sex</th>\n",
              "      <th>SibSp</th>\n",
              "      <th>Parch</th>\n",
              "      <th>Ticket</th>\n",
              "      <th>Fare</th>\n",
              "      <th>Cabin</th>\n",
              "      <th>Embarked</th>\n",
              "      <th>Initial</th>\n",
              "      <th>Age_cat</th>\n",
              "    </tr>\n",
              "  </thead>\n",
              "  <tbody>\n",
              "    <tr>\n",
              "      <th>0</th>\n",
              "      <td>1</td>\n",
              "      <td>0</td>\n",
              "      <td>3</td>\n",
              "      <td>Braund, Mr. Owen Harris</td>\n",
              "      <td>male</td>\n",
              "      <td>1</td>\n",
              "      <td>0</td>\n",
              "      <td>A/5 21171</td>\n",
              "      <td>1.981001</td>\n",
              "      <td>NaN</td>\n",
              "      <td>2</td>\n",
              "      <td>2.0</td>\n",
              "      <td>2.0</td>\n",
              "    </tr>\n",
              "    <tr>\n",
              "      <th>1</th>\n",
              "      <td>2</td>\n",
              "      <td>1</td>\n",
              "      <td>1</td>\n",
              "      <td>Cumings, Mrs. John Bradley (Florence Briggs Th...</td>\n",
              "      <td>female</td>\n",
              "      <td>1</td>\n",
              "      <td>0</td>\n",
              "      <td>PC 17599</td>\n",
              "      <td>4.266662</td>\n",
              "      <td>C85</td>\n",
              "      <td>0</td>\n",
              "      <td>3.0</td>\n",
              "      <td>3.0</td>\n",
              "    </tr>\n",
              "    <tr>\n",
              "      <th>2</th>\n",
              "      <td>3</td>\n",
              "      <td>1</td>\n",
              "      <td>3</td>\n",
              "      <td>Heikkinen, Miss. Laina</td>\n",
              "      <td>female</td>\n",
              "      <td>0</td>\n",
              "      <td>0</td>\n",
              "      <td>STON/O2. 3101282</td>\n",
              "      <td>2.070022</td>\n",
              "      <td>NaN</td>\n",
              "      <td>2</td>\n",
              "      <td>NaN</td>\n",
              "      <td>2.0</td>\n",
              "    </tr>\n",
              "    <tr>\n",
              "      <th>3</th>\n",
              "      <td>4</td>\n",
              "      <td>1</td>\n",
              "      <td>1</td>\n",
              "      <td>Futrelle, Mrs. Jacques Heath (Lily May Peel)</td>\n",
              "      <td>female</td>\n",
              "      <td>1</td>\n",
              "      <td>0</td>\n",
              "      <td>113803</td>\n",
              "      <td>3.972177</td>\n",
              "      <td>C123</td>\n",
              "      <td>2</td>\n",
              "      <td>3.0</td>\n",
              "      <td>3.0</td>\n",
              "    </tr>\n",
              "    <tr>\n",
              "      <th>4</th>\n",
              "      <td>5</td>\n",
              "      <td>0</td>\n",
              "      <td>3</td>\n",
              "      <td>Allen, Mr. William Henry</td>\n",
              "      <td>male</td>\n",
              "      <td>0</td>\n",
              "      <td>0</td>\n",
              "      <td>373450</td>\n",
              "      <td>2.085672</td>\n",
              "      <td>NaN</td>\n",
              "      <td>2</td>\n",
              "      <td>2.0</td>\n",
              "      <td>3.0</td>\n",
              "    </tr>\n",
              "    <tr>\n",
              "      <th>5</th>\n",
              "      <td>6</td>\n",
              "      <td>0</td>\n",
              "      <td>3</td>\n",
              "      <td>Moran, Mr. James</td>\n",
              "      <td>male</td>\n",
              "      <td>0</td>\n",
              "      <td>0</td>\n",
              "      <td>330877</td>\n",
              "      <td>2.135148</td>\n",
              "      <td>NaN</td>\n",
              "      <td>1</td>\n",
              "      <td>2.0</td>\n",
              "      <td>3.0</td>\n",
              "    </tr>\n",
              "    <tr>\n",
              "      <th>6</th>\n",
              "      <td>7</td>\n",
              "      <td>0</td>\n",
              "      <td>1</td>\n",
              "      <td>McCarthy, Mr. Timothy J</td>\n",
              "      <td>male</td>\n",
              "      <td>0</td>\n",
              "      <td>0</td>\n",
              "      <td>17463</td>\n",
              "      <td>3.948596</td>\n",
              "      <td>E46</td>\n",
              "      <td>2</td>\n",
              "      <td>2.0</td>\n",
              "      <td>5.0</td>\n",
              "    </tr>\n",
              "    <tr>\n",
              "      <th>7</th>\n",
              "      <td>8</td>\n",
              "      <td>0</td>\n",
              "      <td>3</td>\n",
              "      <td>Palsson, Master. Gosta Leonard</td>\n",
              "      <td>male</td>\n",
              "      <td>3</td>\n",
              "      <td>1</td>\n",
              "      <td>349909</td>\n",
              "      <td>3.048088</td>\n",
              "      <td>NaN</td>\n",
              "      <td>2</td>\n",
              "      <td>0.0</td>\n",
              "      <td>0.0</td>\n",
              "    </tr>\n",
              "    <tr>\n",
              "      <th>8</th>\n",
              "      <td>9</td>\n",
              "      <td>1</td>\n",
              "      <td>3</td>\n",
              "      <td>Johnson, Mrs. Oscar W (Elisabeth Vilhelmina Berg)</td>\n",
              "      <td>female</td>\n",
              "      <td>0</td>\n",
              "      <td>2</td>\n",
              "      <td>347742</td>\n",
              "      <td>2.409941</td>\n",
              "      <td>NaN</td>\n",
              "      <td>2</td>\n",
              "      <td>3.0</td>\n",
              "      <td>2.0</td>\n",
              "    </tr>\n",
              "    <tr>\n",
              "      <th>9</th>\n",
              "      <td>10</td>\n",
              "      <td>1</td>\n",
              "      <td>2</td>\n",
              "      <td>Nasser, Mrs. Nicholas (Adele Achem)</td>\n",
              "      <td>female</td>\n",
              "      <td>1</td>\n",
              "      <td>0</td>\n",
              "      <td>237736</td>\n",
              "      <td>3.403555</td>\n",
              "      <td>NaN</td>\n",
              "      <td>0</td>\n",
              "      <td>3.0</td>\n",
              "      <td>1.0</td>\n",
              "    </tr>\n",
              "  </tbody>\n",
              "</table>\n",
              "</div>\n",
              "      <button class=\"colab-df-convert\" onclick=\"convertToInteractive('df-4a9fcc5e-7a0b-4e84-8209-2724448a75ef')\"\n",
              "              title=\"Convert this dataframe to an interactive table.\"\n",
              "              style=\"display:none;\">\n",
              "        \n",
              "  <svg xmlns=\"http://www.w3.org/2000/svg\" height=\"24px\"viewBox=\"0 0 24 24\"\n",
              "       width=\"24px\">\n",
              "    <path d=\"M0 0h24v24H0V0z\" fill=\"none\"/>\n",
              "    <path d=\"M18.56 5.44l.94 2.06.94-2.06 2.06-.94-2.06-.94-.94-2.06-.94 2.06-2.06.94zm-11 1L8.5 8.5l.94-2.06 2.06-.94-2.06-.94L8.5 2.5l-.94 2.06-2.06.94zm10 10l.94 2.06.94-2.06 2.06-.94-2.06-.94-.94-2.06-.94 2.06-2.06.94z\"/><path d=\"M17.41 7.96l-1.37-1.37c-.4-.4-.92-.59-1.43-.59-.52 0-1.04.2-1.43.59L10.3 9.45l-7.72 7.72c-.78.78-.78 2.05 0 2.83L4 21.41c.39.39.9.59 1.41.59.51 0 1.02-.2 1.41-.59l7.78-7.78 2.81-2.81c.8-.78.8-2.07 0-2.86zM5.41 20L4 18.59l7.72-7.72 1.47 1.35L5.41 20z\"/>\n",
              "  </svg>\n",
              "      </button>\n",
              "      \n",
              "  <style>\n",
              "    .colab-df-container {\n",
              "      display:flex;\n",
              "      flex-wrap:wrap;\n",
              "      gap: 12px;\n",
              "    }\n",
              "\n",
              "    .colab-df-convert {\n",
              "      background-color: #E8F0FE;\n",
              "      border: none;\n",
              "      border-radius: 50%;\n",
              "      cursor: pointer;\n",
              "      display: none;\n",
              "      fill: #1967D2;\n",
              "      height: 32px;\n",
              "      padding: 0 0 0 0;\n",
              "      width: 32px;\n",
              "    }\n",
              "\n",
              "    .colab-df-convert:hover {\n",
              "      background-color: #E2EBFA;\n",
              "      box-shadow: 0px 1px 2px rgba(60, 64, 67, 0.3), 0px 1px 3px 1px rgba(60, 64, 67, 0.15);\n",
              "      fill: #174EA6;\n",
              "    }\n",
              "\n",
              "    [theme=dark] .colab-df-convert {\n",
              "      background-color: #3B4455;\n",
              "      fill: #D2E3FC;\n",
              "    }\n",
              "\n",
              "    [theme=dark] .colab-df-convert:hover {\n",
              "      background-color: #434B5C;\n",
              "      box-shadow: 0px 1px 3px 1px rgba(0, 0, 0, 0.15);\n",
              "      filter: drop-shadow(0px 1px 2px rgba(0, 0, 0, 0.3));\n",
              "      fill: #FFFFFF;\n",
              "    }\n",
              "  </style>\n",
              "\n",
              "      <script>\n",
              "        const buttonEl =\n",
              "          document.querySelector('#df-4a9fcc5e-7a0b-4e84-8209-2724448a75ef button.colab-df-convert');\n",
              "        buttonEl.style.display =\n",
              "          google.colab.kernel.accessAllowed ? 'block' : 'none';\n",
              "\n",
              "        async function convertToInteractive(key) {\n",
              "          const element = document.querySelector('#df-4a9fcc5e-7a0b-4e84-8209-2724448a75ef');\n",
              "          const dataTable =\n",
              "            await google.colab.kernel.invokeFunction('convertToInteractive',\n",
              "                                                     [key], {});\n",
              "          if (!dataTable) return;\n",
              "\n",
              "          const docLinkHtml = 'Like what you see? Visit the ' +\n",
              "            '<a target=\"_blank\" href=https://colab.research.google.com/notebooks/data_table.ipynb>data table notebook</a>'\n",
              "            + ' to learn more about interactive tables.';\n",
              "          element.innerHTML = '';\n",
              "          dataTable['output_type'] = 'display_data';\n",
              "          await google.colab.output.renderOutput(dataTable, element);\n",
              "          const docLink = document.createElement('div');\n",
              "          docLink.innerHTML = docLinkHtml;\n",
              "          element.appendChild(docLink);\n",
              "        }\n",
              "      </script>\n",
              "    </div>\n",
              "  </div>\n",
              "  "
            ]
          },
          "metadata": {},
          "execution_count": 63
        }
      ]
    },
    {
      "cell_type": "code",
      "source": [
        "df_train['Embarked'].isnull().any() # True가 하나라도 있으면 True를 반환한다. (sum으로 알아봐도 됨)"
      ],
      "metadata": {
        "colab": {
          "base_uri": "https://localhost:8080/"
        },
        "id": "4katVV8H-nfi",
        "outputId": "6e305e15-4124-494a-a9ad-07c6b42111fd"
      },
      "execution_count": null,
      "outputs": [
        {
          "output_type": "execute_result",
          "data": {
            "text/plain": [
              "False"
            ]
          },
          "metadata": {},
          "execution_count": 64
        }
      ]
    },
    {
      "cell_type": "code",
      "source": [
        "df_train['Sex'].unique()"
      ],
      "metadata": {
        "colab": {
          "base_uri": "https://localhost:8080/"
        },
        "id": "PlpoJg2cBSpb",
        "outputId": "5cd8ee4f-c964-4b68-a9b0-4733d0f86c20"
      },
      "execution_count": null,
      "outputs": [
        {
          "output_type": "execute_result",
          "data": {
            "text/plain": [
              "array(['male', 'female'], dtype=object)"
            ]
          },
          "metadata": {},
          "execution_count": 65
        }
      ]
    },
    {
      "cell_type": "code",
      "source": [
        "df_train['Sex'] = df_train['Sex'].map({'male':0,'female':1})\n",
        "df_test['Sex'] = df_test['Sex'].map({'male':0,'female':1})"
      ],
      "metadata": {
        "id": "xrfgqKpaBhnj"
      },
      "execution_count": null,
      "outputs": []
    },
    {
      "cell_type": "markdown",
      "source": [
        "- 모든 feature들 수치화 끝!\n"
      ],
      "metadata": {
        "id": "l-L0oyiuB04F"
      }
    },
    {
      "cell_type": "markdown",
      "source": [
        "### Feature 간 상관관계를 확인해보자(Pearson correlation)"
      ],
      "metadata": {
        "id": "SdErPJ3RCKAs"
      }
    },
    {
      "cell_type": "markdown",
      "source": [
        "- 지금부터는 각 feature간 상관관계(선형적으로) 살펴보자. 어떻게 비례하는지 ! -> 피어슨 상관관계\n",
        "- 8개 feature들을 8*8 matrix로 하여 상관관계를 확인해보자 : heatmat plot"
      ],
      "metadata": {
        "id": "Ry7haGXpCOcA"
      }
    },
    {
      "cell_type": "code",
      "source": [
        "heatmap_data = df_train[['Survived', 'Pclass', 'Sex', 'Fare', 'Embarked', 'FamilySize', 'Initial', 'Age_cat']]"
      ],
      "metadata": {
        "id": "G_vVgrFLBwmq"
      },
      "execution_count": null,
      "outputs": []
    },
    {
      "cell_type": "code",
      "source": [
        "heatmap_data.corr() # correlation"
      ],
      "metadata": {
        "colab": {
          "base_uri": "https://localhost:8080/",
          "height": 364
        },
        "id": "r1FqtGvnD0Fq",
        "outputId": "75f86c60-eaa8-47e2-c46c-99e0a961b5df"
      },
      "execution_count": null,
      "outputs": [
        {
          "output_type": "execute_result",
          "data": {
            "text/plain": [
              "            Survived    Pclass       Sex      Fare  Embarked  FamilySize  \\\n",
              "Survived    1.000000 -0.338481  0.543351  0.331805 -0.167675    0.016639   \n",
              "Pclass     -0.338481  1.000000 -0.131900 -0.670489  0.162098    0.065997   \n",
              "Sex         0.543351 -0.131900  1.000000  0.264751 -0.108262    0.200988   \n",
              "Fare        0.331805 -0.670489  0.264751  1.000000 -0.199932    0.389193   \n",
              "Embarked   -0.167675  0.162098 -0.108262 -0.199932  1.000000    0.066516   \n",
              "FamilySize  0.016639  0.065997  0.200988  0.389193  0.066516    1.000000   \n",
              "Initial     0.173428 -0.199893  0.632142  0.072427 -0.047687   -0.214779   \n",
              "Age_cat    -0.095002 -0.314809 -0.122917  0.077791 -0.033173   -0.280537   \n",
              "\n",
              "             Initial   Age_cat  \n",
              "Survived    0.173428 -0.095002  \n",
              "Pclass     -0.199893 -0.314809  \n",
              "Sex         0.632142 -0.122917  \n",
              "Fare        0.072427  0.077791  \n",
              "Embarked   -0.047687 -0.033173  \n",
              "FamilySize -0.214779 -0.280537  \n",
              "Initial     1.000000  0.445126  \n",
              "Age_cat     0.445126  1.000000  "
            ],
            "text/html": [
              "\n",
              "  <div id=\"df-2095f8a2-e807-4e5a-b18e-2d5f36cfd7eb\">\n",
              "    <div class=\"colab-df-container\">\n",
              "      <div>\n",
              "<style scoped>\n",
              "    .dataframe tbody tr th:only-of-type {\n",
              "        vertical-align: middle;\n",
              "    }\n",
              "\n",
              "    .dataframe tbody tr th {\n",
              "        vertical-align: top;\n",
              "    }\n",
              "\n",
              "    .dataframe thead th {\n",
              "        text-align: right;\n",
              "    }\n",
              "</style>\n",
              "<table border=\"1\" class=\"dataframe\">\n",
              "  <thead>\n",
              "    <tr style=\"text-align: right;\">\n",
              "      <th></th>\n",
              "      <th>Survived</th>\n",
              "      <th>Pclass</th>\n",
              "      <th>Sex</th>\n",
              "      <th>Fare</th>\n",
              "      <th>Embarked</th>\n",
              "      <th>FamilySize</th>\n",
              "      <th>Initial</th>\n",
              "      <th>Age_cat</th>\n",
              "    </tr>\n",
              "  </thead>\n",
              "  <tbody>\n",
              "    <tr>\n",
              "      <th>Survived</th>\n",
              "      <td>1.000000</td>\n",
              "      <td>-0.338481</td>\n",
              "      <td>0.543351</td>\n",
              "      <td>0.331805</td>\n",
              "      <td>-0.167675</td>\n",
              "      <td>0.016639</td>\n",
              "      <td>0.173428</td>\n",
              "      <td>-0.095002</td>\n",
              "    </tr>\n",
              "    <tr>\n",
              "      <th>Pclass</th>\n",
              "      <td>-0.338481</td>\n",
              "      <td>1.000000</td>\n",
              "      <td>-0.131900</td>\n",
              "      <td>-0.670489</td>\n",
              "      <td>0.162098</td>\n",
              "      <td>0.065997</td>\n",
              "      <td>-0.199893</td>\n",
              "      <td>-0.314809</td>\n",
              "    </tr>\n",
              "    <tr>\n",
              "      <th>Sex</th>\n",
              "      <td>0.543351</td>\n",
              "      <td>-0.131900</td>\n",
              "      <td>1.000000</td>\n",
              "      <td>0.264751</td>\n",
              "      <td>-0.108262</td>\n",
              "      <td>0.200988</td>\n",
              "      <td>0.632142</td>\n",
              "      <td>-0.122917</td>\n",
              "    </tr>\n",
              "    <tr>\n",
              "      <th>Fare</th>\n",
              "      <td>0.331805</td>\n",
              "      <td>-0.670489</td>\n",
              "      <td>0.264751</td>\n",
              "      <td>1.000000</td>\n",
              "      <td>-0.199932</td>\n",
              "      <td>0.389193</td>\n",
              "      <td>0.072427</td>\n",
              "      <td>0.077791</td>\n",
              "    </tr>\n",
              "    <tr>\n",
              "      <th>Embarked</th>\n",
              "      <td>-0.167675</td>\n",
              "      <td>0.162098</td>\n",
              "      <td>-0.108262</td>\n",
              "      <td>-0.199932</td>\n",
              "      <td>1.000000</td>\n",
              "      <td>0.066516</td>\n",
              "      <td>-0.047687</td>\n",
              "      <td>-0.033173</td>\n",
              "    </tr>\n",
              "    <tr>\n",
              "      <th>FamilySize</th>\n",
              "      <td>0.016639</td>\n",
              "      <td>0.065997</td>\n",
              "      <td>0.200988</td>\n",
              "      <td>0.389193</td>\n",
              "      <td>0.066516</td>\n",
              "      <td>1.000000</td>\n",
              "      <td>-0.214779</td>\n",
              "      <td>-0.280537</td>\n",
              "    </tr>\n",
              "    <tr>\n",
              "      <th>Initial</th>\n",
              "      <td>0.173428</td>\n",
              "      <td>-0.199893</td>\n",
              "      <td>0.632142</td>\n",
              "      <td>0.072427</td>\n",
              "      <td>-0.047687</td>\n",
              "      <td>-0.214779</td>\n",
              "      <td>1.000000</td>\n",
              "      <td>0.445126</td>\n",
              "    </tr>\n",
              "    <tr>\n",
              "      <th>Age_cat</th>\n",
              "      <td>-0.095002</td>\n",
              "      <td>-0.314809</td>\n",
              "      <td>-0.122917</td>\n",
              "      <td>0.077791</td>\n",
              "      <td>-0.033173</td>\n",
              "      <td>-0.280537</td>\n",
              "      <td>0.445126</td>\n",
              "      <td>1.000000</td>\n",
              "    </tr>\n",
              "  </tbody>\n",
              "</table>\n",
              "</div>\n",
              "      <button class=\"colab-df-convert\" onclick=\"convertToInteractive('df-2095f8a2-e807-4e5a-b18e-2d5f36cfd7eb')\"\n",
              "              title=\"Convert this dataframe to an interactive table.\"\n",
              "              style=\"display:none;\">\n",
              "        \n",
              "  <svg xmlns=\"http://www.w3.org/2000/svg\" height=\"24px\"viewBox=\"0 0 24 24\"\n",
              "       width=\"24px\">\n",
              "    <path d=\"M0 0h24v24H0V0z\" fill=\"none\"/>\n",
              "    <path d=\"M18.56 5.44l.94 2.06.94-2.06 2.06-.94-2.06-.94-.94-2.06-.94 2.06-2.06.94zm-11 1L8.5 8.5l.94-2.06 2.06-.94-2.06-.94L8.5 2.5l-.94 2.06-2.06.94zm10 10l.94 2.06.94-2.06 2.06-.94-2.06-.94-.94-2.06-.94 2.06-2.06.94z\"/><path d=\"M17.41 7.96l-1.37-1.37c-.4-.4-.92-.59-1.43-.59-.52 0-1.04.2-1.43.59L10.3 9.45l-7.72 7.72c-.78.78-.78 2.05 0 2.83L4 21.41c.39.39.9.59 1.41.59.51 0 1.02-.2 1.41-.59l7.78-7.78 2.81-2.81c.8-.78.8-2.07 0-2.86zM5.41 20L4 18.59l7.72-7.72 1.47 1.35L5.41 20z\"/>\n",
              "  </svg>\n",
              "      </button>\n",
              "      \n",
              "  <style>\n",
              "    .colab-df-container {\n",
              "      display:flex;\n",
              "      flex-wrap:wrap;\n",
              "      gap: 12px;\n",
              "    }\n",
              "\n",
              "    .colab-df-convert {\n",
              "      background-color: #E8F0FE;\n",
              "      border: none;\n",
              "      border-radius: 50%;\n",
              "      cursor: pointer;\n",
              "      display: none;\n",
              "      fill: #1967D2;\n",
              "      height: 32px;\n",
              "      padding: 0 0 0 0;\n",
              "      width: 32px;\n",
              "    }\n",
              "\n",
              "    .colab-df-convert:hover {\n",
              "      background-color: #E2EBFA;\n",
              "      box-shadow: 0px 1px 2px rgba(60, 64, 67, 0.3), 0px 1px 3px 1px rgba(60, 64, 67, 0.15);\n",
              "      fill: #174EA6;\n",
              "    }\n",
              "\n",
              "    [theme=dark] .colab-df-convert {\n",
              "      background-color: #3B4455;\n",
              "      fill: #D2E3FC;\n",
              "    }\n",
              "\n",
              "    [theme=dark] .colab-df-convert:hover {\n",
              "      background-color: #434B5C;\n",
              "      box-shadow: 0px 1px 3px 1px rgba(0, 0, 0, 0.15);\n",
              "      filter: drop-shadow(0px 1px 2px rgba(0, 0, 0, 0.3));\n",
              "      fill: #FFFFFF;\n",
              "    }\n",
              "  </style>\n",
              "\n",
              "      <script>\n",
              "        const buttonEl =\n",
              "          document.querySelector('#df-2095f8a2-e807-4e5a-b18e-2d5f36cfd7eb button.colab-df-convert');\n",
              "        buttonEl.style.display =\n",
              "          google.colab.kernel.accessAllowed ? 'block' : 'none';\n",
              "\n",
              "        async function convertToInteractive(key) {\n",
              "          const element = document.querySelector('#df-2095f8a2-e807-4e5a-b18e-2d5f36cfd7eb');\n",
              "          const dataTable =\n",
              "            await google.colab.kernel.invokeFunction('convertToInteractive',\n",
              "                                                     [key], {});\n",
              "          if (!dataTable) return;\n",
              "\n",
              "          const docLinkHtml = 'Like what you see? Visit the ' +\n",
              "            '<a target=\"_blank\" href=https://colab.research.google.com/notebooks/data_table.ipynb>data table notebook</a>'\n",
              "            + ' to learn more about interactive tables.';\n",
              "          element.innerHTML = '';\n",
              "          dataTable['output_type'] = 'display_data';\n",
              "          await google.colab.output.renderOutput(dataTable, element);\n",
              "          const docLink = document.createElement('div');\n",
              "          docLink.innerHTML = docLinkHtml;\n",
              "          element.appendChild(docLink);\n",
              "        }\n",
              "      </script>\n",
              "    </div>\n",
              "  </div>\n",
              "  "
            ]
          },
          "metadata": {},
          "execution_count": 73
        }
      ]
    },
    {
      "cell_type": "code",
      "source": [
        "colormap = plt.cm.Greens_r\n",
        "plt.figure(figsize=(14,12))\n",
        "plt.title('Pearson Correlation of Features', y=1.05, size=15)\n",
        "sns.heatmap(heatmap_data.astype(float).corr(),linewidths=0.1,vmax=1.0, \n",
        "            square=True, cmap=colormap, linecolor='white',annot=True, annot_kws={'size': 16})"
      ],
      "metadata": {
        "id": "w1rBZFdfCkh5"
      },
      "execution_count": null,
      "outputs": []
    },
    {
      "cell_type": "markdown",
      "source": [
        "- 1이나 -1 의 상관관계가 있는 feature들은 굳이 하나 더 있을 필요가 없다. (자기자신제외) 그러한 feature는 없으므로 redundant한 feature는 없음. "
      ],
      "metadata": {
        "id": "anbJUP0VF6J3"
      }
    },
    {
      "cell_type": "markdown",
      "source": [
        "# one-hot encoding"
      ],
      "metadata": {
        "id": "H1nApsH1HBrt"
      }
    },
    {
      "cell_type": "markdown",
      "source": [
        "- model의 성능은 어떻게 높일까? -> category data를 정말 category data답게 쓰는 것. category 데이터에 담긴 정보를 사용할 수 있게 만들어주는 것. "
      ],
      "metadata": {
        "id": "G7izjDCOHGex"
      }
    },
    {
      "cell_type": "markdown",
      "source": [
        "- one-hot encoding을 하는 이유\n",
        "  - a냐 아니냐가 중요하지, a보다 위냐 아니냐를 판단하는 것이 중요한 것이 아닐 때"
      ],
      "metadata": {
        "id": "W9SAPgJ1H-2p"
      }
    },
    {
      "cell_type": "code",
      "source": [
        "************* Embarked랑 initial check"
      ],
      "metadata": {
        "id": "g2OJ7dRbuYqn"
      },
      "execution_count": null,
      "outputs": []
    },
    {
      "cell_type": "code",
      "source": [
        "df_train['Embarked'].unique()"
      ],
      "metadata": {
        "colab": {
          "base_uri": "https://localhost:8080/"
        },
        "id": "_SMAJwopsvlG",
        "outputId": "f74869a8-ca47-44d4-eea2-ca56a6635909"
      },
      "execution_count": null,
      "outputs": [
        {
          "output_type": "execute_result",
          "data": {
            "text/plain": [
              "array([2, 0, 1])"
            ]
          },
          "metadata": {},
          "execution_count": 77
        }
      ]
    },
    {
      "cell_type": "code",
      "source": [
        "df_test['Embarked'].unique()"
      ],
      "metadata": {
        "colab": {
          "base_uri": "https://localhost:8080/"
        },
        "id": "xpU2t5X1skD7",
        "outputId": "40ae2d21-66ea-41b4-fb0e-f5dd4167b617"
      },
      "execution_count": null,
      "outputs": [
        {
          "output_type": "execute_result",
          "data": {
            "text/plain": [
              "array([1, 2, 0])"
            ]
          },
          "metadata": {},
          "execution_count": 76
        }
      ]
    },
    {
      "cell_type": "code",
      "source": [
        "df_test['Initial'].unique()"
      ],
      "metadata": {
        "colab": {
          "base_uri": "https://localhost:8080/"
        },
        "id": "6eXcU2yBs1zy",
        "outputId": "7d83c53f-e39d-4acb-d3b4-c3c86452ab82"
      },
      "execution_count": null,
      "outputs": [
        {
          "output_type": "execute_result",
          "data": {
            "text/plain": [
              "array([ 2.,  3., nan,  0.,  4.])"
            ]
          },
          "metadata": {},
          "execution_count": 79
        }
      ]
    },
    {
      "cell_type": "code",
      "source": [
        "# initial 카테고리 없애면서 one-hot encoding 해준다. \n",
        "df_train = pd.get_dummies(df_train, columns=['Initial'], prefix='Initial')\n",
        "df_test = pd.get_dummies(df_test, columns=['Initial'], prefix='Initial')"
      ],
      "metadata": {
        "id": "0gIYmT48CloJ"
      },
      "execution_count": null,
      "outputs": []
    },
    {
      "cell_type": "code",
      "source": [
        "df_train = pd.get_dummies(df_train,columns=['Embarked'],prefix='Embarked')\n",
        "df_test = pd.get_dummies(df_test,columns=['Embarked'],prefix='Embarked')"
      ],
      "metadata": {
        "id": "r1uVz2SZIdFB"
      },
      "execution_count": null,
      "outputs": []
    },
    {
      "cell_type": "markdown",
      "source": [
        "- category가 아주 많아서 100개 넘어가거나 이런 경우는 원핫인코딩보다도 다른 방식 사용하는 게 더 좋다 (나중에 배우기)"
      ],
      "metadata": {
        "id": "SYO5WScHI7_K"
      }
    },
    {
      "cell_type": "markdown",
      "source": [
        "# 필요 없는 컬럼 날리기!"
      ],
      "metadata": {
        "id": "-rlB5bNkJGS3"
      }
    },
    {
      "cell_type": "code",
      "source": [
        "df_train.drop(['PassengerId', 'Name', 'SibSp', 'Parch', 'Ticket', 'Cabin'], axis=1, inplace=True)\n",
        "df_test.drop(['PassengerId', 'Name',  'SibSp', 'Parch', 'Ticket', 'Cabin'], axis=1, inplace=True)"
      ],
      "metadata": {
        "id": "7X6ZSdo_Id6H"
      },
      "execution_count": null,
      "outputs": []
    },
    {
      "cell_type": "code",
      "source": [
        "df_train.head()"
      ],
      "metadata": {
        "id": "TA9ivRu5JLqv"
      },
      "execution_count": null,
      "outputs": []
    },
    {
      "cell_type": "code",
      "source": [
        "df_test.head()"
      ],
      "metadata": {
        "id": "d8XuSh3dlh2I"
      },
      "execution_count": null,
      "outputs": []
    },
    {
      "cell_type": "markdown",
      "source": [
        "# skitlearn library 사용해서 만들고 예측 모델 만들기 ~~ "
      ],
      "metadata": {
        "id": "jkx3QPMtJUTs"
      }
    },
    {
      "cell_type": "code",
      "source": [
        "from sklearn.ensemble import RandomForestClassifier\n",
        "from sklearn import metrics\n",
        "from sklearn.model_selection import train_test_split"
      ],
      "metadata": {
        "id": "xXIWNo3qJNxC"
      },
      "execution_count": null,
      "outputs": []
    },
    {
      "cell_type": "code",
      "source": [
        "X_train = df_train.drop('Survived',axis=1).values\n",
        "target_label = df_train['Survived'].values\n",
        "X_test = df_test.values"
      ],
      "metadata": {
        "id": "CAT5qTadPR74"
      },
      "execution_count": null,
      "outputs": []
    },
    {
      "cell_type": "code",
      "source": [
        "df_test"
      ],
      "metadata": {
        "id": "Wdm-undAoOQ8"
      },
      "execution_count": null,
      "outputs": []
    },
    {
      "cell_type": "code",
      "source": [
        "# train set 안에서도 valid set을 따로 분리하여 더 좋은 모델을 만들도록 한다.\n",
        "# 30%를 valid로 주고 70%를 train으로 주자.\n",
        "X_tr, X_vld, y_tr, y_vld = train_test_split(X_train,target_label, test_size=0.3, random_state=2018)"
      ],
      "metadata": {
        "id": "dzs6SqybQNVi"
      },
      "execution_count": null,
      "outputs": []
    },
    {
      "cell_type": "markdown",
      "source": [
        "편리하게 parameter tuning 하는 방법들이 있지만\n",
        "- 그리드 서칭\n",
        "- 베이지안\n",
        "- ..."
      ],
      "metadata": {
        "id": "NVLfbDdhR_1Y"
      }
    },
    {
      "cell_type": "markdown",
      "source": [
        "일단은 default mode로 진행해보자. "
      ],
      "metadata": {
        "id": "31PCAuy2SMx5"
      }
    },
    {
      "cell_type": "code",
      "source": [
        "model = RandomForestClassifier()\n",
        "model.fit(X_tr,y_tr)  # training\n",
        "prediction = model.predict(X_vld)"
      ],
      "metadata": {
        "id": "Yk5xDt5ARiTE"
      },
      "execution_count": null,
      "outputs": []
    },
    {
      "cell_type": "code",
      "source": [
        "print('총 {}명 중 {:.2f}%의 정확도로 생존을 맞춤'.format(y_vld.shape[0],100*metrics.accuracy_score(prediction,y_vld)))"
      ],
      "metadata": {
        "id": "RuBWFL3zRnkz"
      },
      "execution_count": null,
      "outputs": []
    },
    {
      "cell_type": "code",
      "source": [
        "(prediction == y_vld).sum()/prediction.shape[0]"
      ],
      "metadata": {
        "id": "BjzlK1T0R34d"
      },
      "execution_count": null,
      "outputs": []
    },
    {
      "cell_type": "markdown",
      "source": [
        "# Feature Importance"
      ],
      "metadata": {
        "id": "Zshu8xO4TtBK"
      }
    },
    {
      "cell_type": "code",
      "source": [
        "model.n_features_"
      ],
      "metadata": {
        "id": "y66rIBkymqQB"
      },
      "execution_count": null,
      "outputs": []
    },
    {
      "cell_type": "code",
      "source": [
        "model.feature_importances_"
      ],
      "metadata": {
        "id": "0EsKOV7iTGi0"
      },
      "execution_count": null,
      "outputs": []
    },
    {
      "cell_type": "code",
      "source": [
        "from pandas import Series"
      ],
      "metadata": {
        "id": "9JFjNeNyUvgp"
      },
      "execution_count": null,
      "outputs": []
    },
    {
      "cell_type": "code",
      "source": [
        "feature_importance = model.feature_importances_"
      ],
      "metadata": {
        "id": "f5PGkrpZU1uT"
      },
      "execution_count": null,
      "outputs": []
    },
    {
      "cell_type": "code",
      "source": [
        "feature_importance"
      ],
      "metadata": {
        "id": "w5Kx_cPuVDe_"
      },
      "execution_count": null,
      "outputs": []
    },
    {
      "cell_type": "code",
      "source": [
        "Series_feat_imp = Series(feature_importance, index=df_test.columns)"
      ],
      "metadata": {
        "id": "LH30sysdUHhG"
      },
      "execution_count": null,
      "outputs": []
    },
    {
      "cell_type": "code",
      "source": [
        "plt.figure(figsize=(8,8))\n",
        "Series_feat_imp.sort_values(ascending=True).plot.barh()\n",
        "plt.xlabel('Feature importance')\n",
        "plt.ylabel('Feature')\n",
        "plt.show()"
      ],
      "metadata": {
        "id": "bKjsoghFUZ3W"
      },
      "execution_count": null,
      "outputs": []
    },
    {
      "cell_type": "markdown",
      "source": [
        "# 모델이 학습하지 않았던 데이터로 확인해보는 마지막 단계!"
      ],
      "metadata": {
        "id": "X-PgvgnFXoGm"
      }
    },
    {
      "cell_type": "code",
      "source": [
        "submission = pd.read_csv('gender_submission.csv')"
      ],
      "metadata": {
        "id": "h0HdFZn-XBiY"
      },
      "execution_count": null,
      "outputs": []
    },
    {
      "cell_type": "code",
      "source": [
        "prediction = model.predict(X_test)\n",
        "submission['Survived'] = prediction"
      ],
      "metadata": {
        "id": "3N4XWy4GZ11d"
      },
      "execution_count": null,
      "outputs": []
    }
  ]
}